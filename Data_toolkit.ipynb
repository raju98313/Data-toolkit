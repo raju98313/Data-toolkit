{
  "cells": [
    {
      "cell_type": "markdown",
      "metadata": {
        "id": "nFFASiM3rCZ_"
      },
      "source": [
        "##Data Toolkit"
      ]
    },
    {
      "cell_type": "markdown",
      "metadata": {
        "id": "q8S3qOnnrG_G"
      },
      "source": [
        "## theoretical Questions"
      ]
    },
    {
      "cell_type": "markdown",
      "metadata": {
        "id": "SICi4b7KrxvH"
      },
      "source": [
        "#Q1.What is NumPy, and why is it widely used in Python?\n",
        "\n",
        "\n",
        "#Ans.Here is a **theoretical explanation** of **NumPy**:\n",
        "\n",
        "---\n",
        "\n",
        "### What is NumPy?\n",
        "\n",
        "**NumPy** (short for **Numerical Python**) is a fundamental open-source library in Python used for **numerical computing**. It provides support for **multi-dimensional arrays** and **matrices**, along with a large collection of mathematical functions to operate on these data structures efficiently.\n",
        "\n",
        "---\n",
        "\n",
        "### Why is NumPy Widely Used in Python?\n",
        "\n",
        "NumPy is widely used for several **theoretical** and **practical** reasons:\n",
        "\n",
        "1. **Efficient Array Operations**:\n",
        "   NumPy arrays (called **ndarrays**) are more efficient and faster than Python lists for numerical operations because they are implemented in C and optimized for performance.\n",
        "\n",
        "2. **Mathematical Foundations**:\n",
        "   It provides essential tools for **linear algebra**, **Fourier transforms**, **statistics**, and **random number generation**, which are fundamental in scientific computing.\n",
        "\n",
        "3. **Memory Efficiency**:\n",
        "   NumPy uses a **homogeneous data structure** (all elements of the array are of the same type), which leads to better memory management and computation speed.\n",
        "\n",
        "4. **Broadcasting and Vectorization**:\n",
        "   NumPy allows **vectorized operations**, which means operations can be applied on whole arrays without using loops, making code cleaner and faster.\n",
        "\n",
        "5. **Foundation for Other Libraries**:\n",
        "   Many advanced libraries in Python such as **Pandas**, **Scikit-learn**, **TensorFlow**, and **SciPy** are built on top of NumPy, making it a **core component** of the Python scientific stack.\n",
        "\n",
        "6. **Cross-platform Support**:\n",
        "   Being open-source and cross-platform, NumPy is accessible to everyone, supporting consistent numerical operations across different systems.\n"
      ]
    },
    {
      "cell_type": "markdown",
      "metadata": {
        "id": "4jFKrw0Pu8RG"
      },
      "source": [
        "#Q2.How does broadcasting work in NumPy?\n",
        "\n",
        "#Ans.\n",
        "Broadcasting in NumPy refers to the ability of the library to perform element-wise operations on arrays of different shapes without explicitly replicating data.\n",
        "\n",
        "In NumPy, broadcasting allows arrays with different shapes to be used together in arithmetic operations. This is done by automatically expanding the smaller array so that it has the same shape as the larger array, without copying data.\n",
        "\n",
        "*** Rules of Broadcasting:\n",
        "\n",
        "When operating on two arrays, NumPy compares their shapes element-wise from right to left. Two dimensions are compatible when:\n",
        "\n",
        "##They are equal, or\n",
        "\n",
        "##One of them is 1\n",
        "\n",
        "If the dimensions are incompatible, NumPy will raise an error\n",
        "\n"
      ]
    },
    {
      "cell_type": "markdown",
      "metadata": {
        "id": "OHvjZkYew2Qq"
      },
      "source": [
        "#Q3.What is a Pandas DataFrame?\n",
        "\n",
        "#Ans.\n",
        "\n",
        "\n",
        "\n",
        "---\n",
        "\n",
        "####  **Definition:**\n",
        "\n",
        "A **Pandas DataFrame** is a **two-dimensional**, **labeled** data structure in Python's **Pandas** library. It is similar to a **table in a database**, **an Excel spreadsheet**, or a **data frame in R**.\n",
        "\n",
        "Each **column** in a DataFrame can have a **different data type** (integer, float, string, etc.), and each **row** is identified by an **index**.\n",
        "\n",
        "---\n",
        "\n",
        "###  Key Features of a DataFrame:\n",
        "\n",
        "1. **Labeled Axes**:\n",
        "\n",
        "   * Rows are labeled with an **index**.\n",
        "   * Columns have **names** (labels).\n",
        "\n",
        "2. **Heterogeneous Data**:\n",
        "\n",
        "   * Different columns can hold different types of data.\n",
        "\n",
        "3. **Size Mutable**:\n",
        "\n",
        "   * You can **add or delete columns/rows** after creation.\n",
        "\n",
        "4. **Tabular Structure**:\n",
        "\n",
        "   * Organized like a table: **rows** and **columns**.\n",
        "\n",
        "5. **Built on NumPy**:\n",
        "\n",
        "   * Internally uses NumPy arrays for fast performance.\n",
        "\n",
        "\n",
        "### Summary:\n",
        "\n",
        "A **Pandas DataFrame** is a powerful, flexible, and easy-to-use structure for **handling structured data** in Python. It is widely used in **data analysis**, **machine learning**, **data cleaning**, and **visualization tasks**.\n",
        "\n"
      ]
    },
    {
      "cell_type": "markdown",
      "metadata": {
        "id": "Y_T6aHFlyzrO"
      },
      "source": [
        "#Q4.Explain the use of the groupby() method in Pandas.\n",
        "\n",
        "\n",
        "#Ans.\n",
        "\n",
        "---\n",
        "\n",
        "####  ** Definition:**\n",
        "\n",
        "The **`groupby()`** method in Pandas is used to **split** the data into groups based on some criteria, **apply** a function to each group independently, and then **combine** the results into a new DataFrame or Series. This is often referred to as the **\"Split–Apply–Combine\"** strategy.\n",
        "\n",
        "---\n",
        "\n",
        "### Purpose of `groupby()`:\n",
        "\n",
        "`groupby()` is used when you want to:\n",
        "\n",
        "* Perform **aggregation** (e.g., sum, mean, count) by category.\n",
        "* Apply **custom functions** to each group.\n",
        "* Perform **transformations** on subsets of your data.\n",
        "\n",
        "---\n",
        "\n",
        "### Syntax:\n",
        "\n",
        "```python\n",
        "DataFrame.groupby(by)\n",
        "```\n",
        "\n",
        "* `by`: Column(s) used to group the data.\n",
        "\n",
        "---\n",
        "\n",
        "###  Example:\n",
        "\n",
        "\n",
        "###  How `groupby()` Works (Split-Apply-Combine):\n",
        "\n",
        "1. **Split**: The data is split into groups based on the 'Department'.\n",
        "2. **Apply**: The `mean()` function is applied to each group.\n",
        "3. **Combine**: The results are combined into a single output structure.\n",
        "\n",
        "---\n",
        "\n",
        "###  \n",
        "\n",
        "The `groupby()` method in Pandas is a powerful tool for **data aggregation**, **reporting**, and **data transformation**. It enables concise and readable operations when working with **categorized or grouped data**, making it essential for **data analysis tasks**.\n",
        "\n",
        "\n"
      ]
    },
    {
      "cell_type": "markdown",
      "metadata": {
        "id": "VoYETNqQz7FI"
      },
      "source": [
        "#Q5.Why is Seaborn preferred for statistical visualizations?\n",
        "\n",
        "#Ans.\n",
        "\n",
        "---\n",
        "\n",
        "#### **Explanation:**\n",
        "\n",
        "**Seaborn** is a **data visualization library** built on top of **Matplotlib** in Python. It is specifically designed for creating **statistical graphics** with **high-level, easy-to-use functions**. Seaborn is preferred for statistical visualizations due to its **built-in support for complex datasets** and **aesthetic defaults** that make plots more readable and informative.\n",
        "\n",
        "---\n",
        "\n",
        "### Reasons Why Seaborn is Preferred:\n",
        "\n",
        "1. **High-Level Interface**\n",
        "\n",
        "   * Simplifies the process of creating complex plots like box plots, violin plots, pair plots, and heatmaps with just a single line of code.\n",
        "\n",
        "2. **Beautiful and Informative Visuals**\n",
        "\n",
        "   * Comes with **attractive default themes** and **color palettes**, making it ideal for presentations and analysis.\n",
        "\n",
        "3. **Built-in Statistical Functions**\n",
        "\n",
        "   * Easily integrates **statistical summaries**, such as confidence intervals, trend lines (with regression), and distribution fitting.\n",
        "\n",
        "4. **Pandas Integration**\n",
        "\n",
        "   * Seamlessly works with **Pandas DataFrames**, making it easy to visualize real-world datasets directly.\n",
        "\n",
        "5. **Automatic Plot Elements**\n",
        "\n",
        "   * Seaborn can automatically **group data**, **label axes**, and **create legends**, reducing the need for manual configuration.\n",
        "\n",
        "6. **Multi-Variable Analysis**\n",
        "\n",
        "   * Supports plots that show relationships between multiple variables, such as **pairplot()**, **lmplot()**, and **catplot()**.\n",
        "\n",
        "7. **Built-in Datasets**\n",
        "\n",
        "   * Includes several **sample datasets** (like Titanic, Iris, Tips), allowing quick experimentation and learning.\n",
        "\n",
        "\n",
        "\n",
        "---\n",
        "\n",
        "###\n",
        "\n",
        "Seaborn is preferred for **statistical visualizations** because it combines **simplicity**, **statistical power**, and **visual elegance**. It abstracts much of the complexity involved in visualizing statistical data, making it a favorite among **data scientists**, **analysts**, and **researchers**."
      ]
    },
    {
      "cell_type": "markdown",
      "metadata": {
        "id": "zZmfgYdd01FQ"
      },
      "source": [
        "#Q6.What are the differences between NumPy arrays and Python lists?\n",
        "\n",
        "#Ans.\n",
        "\n",
        "\n",
        "\n",
        "---\n",
        "\n",
        "####  **Comparison:**\n",
        "\n",
        "While both **NumPy arrays** and **Python lists** can store collections of items, they are designed for different purposes. **NumPy arrays** are optimized for **numerical computations and scientific data processing**, whereas **Python lists** are more general-purpose containers.\n",
        "\n",
        "---\n",
        "\n",
        "### **Key Differences Between NumPy Arrays and Python Lists:**\n",
        "\n",
        "| Feature                      | NumPy Array                                    | Python List                            |\n",
        "| ---------------------------- | ---------------------------------------------- | -------------------------------------- |\n",
        "| **Data Type**                | Homogeneous (all elements of same type)        | Heterogeneous (can store mixed types)  |\n",
        "| **Performance**              | Faster due to optimized C backend              | Slower due to dynamic typing           |\n",
        "| **Memory Usage**             | More memory-efficient                          | Higher memory usage                    |\n",
        "| **Functionality**            | Supports element-wise operations               | Requires loops for element-wise ops    |\n",
        "| **Broadcasting**             | Yes (automatic operations on different shapes) | No                                     |\n",
        "| **Vectorized Operations**    | Supported (e.g., `a + b`, `a * 2`)             | Not directly supported                 |\n",
        "| **Multidimensional Support** | Native support (nD arrays)                     | Requires nesting (e.g., list of lists) |\n",
        "| **Library Dependency**       | Requires `import numpy`                        | Built-in in Python                     |\n",
        "\n",
        "---\n",
        "\n",
        "```\n",
        "\n",
        "---\n",
        "\n",
        "\n",
        "* Use **Python lists** for **general-purpose** storage of items.\n",
        "* Use **NumPy arrays** when you need **fast**, **efficient**, and **mathematically powerful** operations on numerical data—especially in **data science**, **machine learning**, or **scientific computing**.\n",
        "\n",
        "\n",
        "----\n"
      ]
    },
    {
      "cell_type": "markdown",
      "metadata": {
        "id": "uS7heB8x15TD"
      },
      "source": [
        "#Q7. What is a heatmap, and when should it be used?\n",
        "\n",
        "#Ans.\n",
        "\n",
        "---\n",
        "\n",
        "#### **Explanation:**\n",
        "\n",
        "A **heatmap** is a **data visualization** technique that uses **color gradients** to represent the **magnitude or intensity of values** in a **2D matrix** or table. It provides a clear and immediate visual cue about **patterns**, **correlations**, or **variations** in the data.\n",
        "\n",
        "---\n",
        "\n",
        "### **When to Use a Heatmap:**\n",
        "\n",
        "You should use a heatmap when you want to:\n",
        "\n",
        "1. **Visualize correlations** between numerical variables.\n",
        "2. **Identify patterns, trends, or outliers** in tabular data.\n",
        "3. **Analyze relationships** in a dataset (e.g., customer behavior, sales metrics).\n",
        "4. **Display data density** or **frequency distributions**.\n",
        "5. **Compare data points** across multiple categories or dimensions.\n",
        "\n",
        "---\n",
        "\n",
        "### Key Features:\n",
        "\n",
        "* **Color-Coded Data:**\n",
        "  Values are encoded using color intensity — darker/lighter shades indicate higher/lower values.\n",
        "\n",
        "* **2D Representation:**\n",
        "  Works on matrix-like data (rows × columns).\n",
        "\n",
        "* **Intuitive for Big Data:**\n",
        "  Helpful when numeric data is large and hard to interpret in raw form.\n",
        "\n",
        "---\n",
        "\n",
        "\n",
        "\n",
        "\n",
        "A **heatmap** is a powerful and intuitive way to visualize **numerical data distributions** or **relationships**, especially in **correlation matrices**, **pivot tables**, or **multi-dimensional data**. It transforms complex numbers into easy-to-understand visual patterns using color, making it an essential tool in **data analysis and machine learning**.\n"
      ]
    },
    {
      "cell_type": "markdown",
      "metadata": {
        "id": "jQ-ZtrOz2qft"
      },
      "source": [
        "#Q8.What does the term “vectorized operation” mean in NumPy?\n",
        "\n",
        "#Ans.\n",
        "\n",
        "\n",
        "\n",
        "---\n",
        "\n",
        "#### **Explanation:**\n",
        "\n",
        "A **vectorized operation** in NumPy refers to performing **element-wise operations** on entire arrays (vectors, matrices) **without the need for explicit loops** in Python. These operations are **internally optimized** and executed in compiled code, which makes them **much faster** than looping over elements manually.\n",
        "\n",
        "---\n",
        "\n",
        "###  Key Points:\n",
        "\n",
        "* **Applies operation simultaneously** to all elements of the array.\n",
        "* **Avoids explicit Python loops**, leading to cleaner and more concise code.\n",
        "* Utilizes **low-level optimizations** (often in C), improving performance.\n",
        "* Supports operations like addition, subtraction, multiplication, division, and more complex functions applied element-wise.\n",
        "\n",
        "---\n",
        "\n",
        "**Vectorized operations** allow NumPy to perform **fast and efficient mathematical computations** on arrays by applying operations element-wise **all at once** rather than iterating element by element in Python. This is a cornerstone of NumPy’s power in scientific computing and data analysis.\n",
        "\n"
      ]
    },
    {
      "cell_type": "markdown",
      "metadata": {
        "id": "3h3kpT5H3PB2"
      },
      "source": [
        "#Q9.How does Matplotlib differ from Plotly?\n",
        "\n",
        "\n",
        "#Ans.\n",
        "\n",
        "---\n",
        "\n",
        "#### **Explanation:**\n",
        "\n",
        "**Matplotlib** and **Plotly** are both popular Python libraries for data visualization, but they differ significantly in terms of **features**, **interactivity**, and **use cases**.\n",
        "\n",
        "---\n",
        "\n",
        "###  Key Differences:\n",
        "\n",
        "| Aspect               | Matplotlib                                         | Plotly                                                        |\n",
        "| -------------------- | -------------------------------------------------- | ------------------------------------------------------------- |\n",
        "| **Type of Library**  | Static plotting library                            | Interactive plotting library                                  |\n",
        "| **Interactivity**    | Limited interactivity (zoom, pan in some backends) | Highly interactive with hover, zoom, click events             |\n",
        "| **Output Formats**   | Static images (PNG, PDF, SVG, etc.)                | Web-based, interactive HTML/JavaScript plots                  |\n",
        "| **Ease of Use**      | More complex syntax, steep learning curve          | User-friendly with simple APIs for interactivity              |\n",
        "| **3D Plots Support** | Basic 3D plotting with `mpl_toolkits.mplot3d`      | Advanced 3D visualization out of the box                      |\n",
        "| **Integration**      | Widely used in Jupyter notebooks, scripts          | Works well in notebooks, web apps (Dash), and standalone HTML |\n",
        "| **Customization**    | Highly customizable, flexible for publication      | Customizable, with focus on interactivity and web deployment  |\n",
        "| **Animation**        | Supports animations, but more manual setup         | Built-in support for interactive animations                   |\n",
        "\n",
        "---\n",
        "\n",
        "###  Example Use Cases:\n",
        "\n",
        "* **Matplotlib:**\n",
        "\n",
        "  * Creating static publication-quality figures.\n",
        "  * Scientific plots where fine control over every element is required.\n",
        "\n",
        "* **Plotly:**\n",
        "\n",
        "  * Dashboards and web applications needing user interaction.\n",
        "  * Exploratory data analysis where zooming, hovering, and filtering are helpful.\n",
        "---\n",
        "* Use **Matplotlib** when you need **static, highly customizable plots** and precise control.\n",
        "* Use **Plotly** when you want **interactive, web-ready visualizations** with ease of use and rich user interaction.\n",
        "\n"
      ]
    },
    {
      "cell_type": "markdown",
      "metadata": {
        "id": "6fyQwmrf3ylT"
      },
      "source": [
        "#Q10.What is the significance of hierarchical indexing in Pandas?\n",
        "\n",
        "\n",
        "#Ans.The significance of **hierarchical indexing** in Pandas lies in its ability to handle and organize **multi-dimensional data** within a **two-dimensional** DataFrame or Series. It enables:\n",
        "\n",
        "* Efficient representation of complex datasets with multiple levels of categorization.\n",
        "* Flexible and intuitive data selection, slicing, and filtering at different index levels.\n",
        "* Simplified grouping, aggregation, and transformation operations across multiple dimensions.\n",
        "* Better data organization, making it easier to analyze and visualize hierarchical or nested data structures.\n",
        "\n",
        "Overall, hierarchical indexing enhances Pandas’ power to work with structured, multi-level data in a clean and efficient way.\n"
      ]
    },
    {
      "cell_type": "markdown",
      "metadata": {
        "id": "ZFTBTxP74fl7"
      },
      "source": [
        "#Q11.What is the role of Seaborn’s pairplot() function?\n",
        "\n",
        "\n",
        "\n",
        "#Ans.\n",
        "\n",
        "\n",
        "---\n",
        "\n",
        "#### **Explanation:**\n",
        "\n",
        "Seaborn’s **`pairplot()`** function is used to create a **matrix of scatter plots** (and optionally histograms or KDE plots) that visualize the **pairwise relationships** between multiple numerical variables in a dataset.\n",
        "\n",
        "---\n",
        "\n",
        "### Role and Uses of `pairplot()`:\n",
        "\n",
        "* **Exploratory Data Analysis (EDA):**\n",
        "  Helps to quickly understand the **relationships**, **correlations**, and **distributions** among several variables at once.\n",
        "\n",
        "* **Visualizing Pairwise Interactions:**\n",
        "  Shows how each variable relates to every other variable via scatter plots, helping identify linear or non-linear relationships.\n",
        "\n",
        "* **Distribution Insight:**\n",
        "  Includes diagonal plots that display the **distribution** (histograms or kernel density estimates) of individual variables.\n",
        "\n",
        "* **Grouping by Categories:**\n",
        "  Allows coloring by a categorical variable (using the `hue` parameter), to compare patterns across different groups.\n",
        "\n",
        "---\n",
        "\n",
        "\n",
        "\n",
        "The `pairplot()` function is a powerful tool for **visualizing and exploring multivariate data** in an intuitive, compact grid format, making it easier to detect patterns, correlations, and group differences before deeper analysis.\n",
        "\n",
        "---\n",
        "\n",
        "\n"
      ]
    },
    {
      "cell_type": "markdown",
      "metadata": {
        "id": "uvsyjBgn6gxc"
      },
      "source": [
        "#Q12.What is the purpose of the describe() function in Pandas?\n",
        "\n",
        "#Ans\n",
        "\n",
        "\n",
        "\n",
        "---\n",
        "\n",
        "#### **Explanation:**\n",
        "\n",
        "The **`describe()`** function in Pandas is used to **generate descriptive statistics** of a DataFrame or Series. It provides a **quick summary** of the central tendency, dispersion, and shape of a dataset’s distribution, **excluding `NaN` values** by default.\n",
        "\n",
        "---\n",
        "\n",
        "###  Purpose of `describe()`:\n",
        "\n",
        "* **Summarizes Data Quickly:**\n",
        "  Gives a statistical overview without manually calculating each metric.\n",
        "\n",
        "* **Default Output for Numeric Columns Includes:**\n",
        "\n",
        "  * **Count** – Number of non-null entries\n",
        "  * **Mean** – Average value\n",
        "  * **Standard deviation (std)** – Spread of the data\n",
        "  * **Min/Max** – Minimum and maximum values\n",
        "  * **25%, 50%, 75%** – Percentiles (quartiles)\n",
        "\n",
        "* **Categorical Data (if included):**\n",
        "  When used on non-numeric data with `include='object'` or `include='all'`, it provides:\n",
        "\n",
        "  * **Count**\n",
        "  * **Unique values**\n",
        "  * **Most frequent value (top)**\n",
        "  * **Frequency of the top value (freq)**\n",
        "\n",
        "* **Helpful in Data Cleaning and EDA:**\n",
        "  Useful in detecting missing values, outliers, or irregular distributions.\n",
        "\n",
        "---\n",
        "\n",
        "The `describe()` function is a **powerful tool for initial data analysis**, giving essential statistical summaries that help in understanding the data structure and quality before deeper processing or modeling.\n",
        "\n"
      ]
    },
    {
      "cell_type": "markdown",
      "metadata": {
        "id": "5Y1y6MqO8Bxg"
      },
      "source": [
        "#Q13. Why is handling missing data important in Pandas?\n",
        "\n",
        "#Ans.\n",
        "\n",
        "\n",
        "---\n",
        "\n",
        "#### **Explanation:**\n",
        "\n",
        "Handling missing data is **crucial** in Pandas because missing values can lead to **inaccurate analysis**, **biased results**, or **errors** in data processing and modeling. Pandas provides flexible tools to detect, handle, and fill or drop missing values, ensuring **data integrity** and **valid statistical outcomes**.\n",
        "\n",
        "---\n",
        "\n",
        "###  Importance of Handling Missing Data:\n",
        "\n",
        "1. **Ensures Accuracy:**\n",
        "   Missing values can distort calculations like mean, median, or correlations, leading to **incorrect conclusions**.\n",
        "\n",
        "2. **Prevents Errors in Operations:**\n",
        "   Many functions and models **fail or behave unpredictably** when fed incomplete data.\n",
        "\n",
        "3. **Improves Model Performance:**\n",
        "   Machine learning models require clean, complete datasets for **reliable predictions**.\n",
        "\n",
        "4. **Maintains Data Consistency:**\n",
        "   Cleaning missing data ensures that all observations are **comparable and standardized**.\n",
        "\n",
        "5. **Enables Informed Decisions:**\n",
        "   Thoughtful handling (e.g., imputation, removal) lets analysts make **better data-driven decisions**.\n",
        "\n",
        "---\n",
        "\n",
        "\n",
        "\n",
        "Handling missing data in Pandas is vital for maintaining the **quality, accuracy, and usability** of a dataset. It supports effective data analysis, visualization, and modeling by ensuring your data is clean, complete, and consistent.\n"
      ]
    },
    {
      "cell_type": "markdown",
      "metadata": {
        "id": "qSBiy6EY9Weq"
      },
      "source": [
        "#Q14.What are the benefits of using Plotly for data visualization?\n",
        "\n",
        "#Ans.\n",
        "\n",
        "---\n",
        "\n",
        "#### \\*\\* Explanation:\n",
        "\n",
        "Plotly\\*\\* is a powerful Python library used for **interactive and web-based visualizations**. Unlike traditional libraries like Matplotlib, Plotly is designed to create **dynamic, responsive, and highly customizable visualizations**.\n",
        "\n",
        "---\n",
        "\n",
        "### Benefits of Using Plotly:\n",
        "\n",
        "1. **Interactivity by Default**\n",
        "\n",
        "   * Allows zooming, panning, hovering, and clicking without additional code.\n",
        "   * Makes exploration of large and complex datasets easier.\n",
        "\n",
        "2. **High-Quality Visuals**\n",
        "\n",
        "   * Produces clean, publication-quality graphics ideal for dashboards, reports, and presentations.\n",
        "\n",
        "3. **Web-Friendly Output**\n",
        "\n",
        "   * Generates HTML-based plots that can be embedded in web pages, Jupyter notebooks, and web apps (like Dash).\n",
        "\n",
        "4. **Wide Range of Plot Types**\n",
        "\n",
        "   * Supports a broad spectrum: line charts, scatter plots, bar charts, maps, 3D plots, animations, and more.\n",
        "\n",
        "5. **Ease of Use with Pandas**\n",
        "\n",
        "   * Integrates seamlessly with Pandas DataFrames for quick and intuitive plotting.\n",
        "\n",
        "6. **Customizable and Configurable**\n",
        "\n",
        "   * Offers extensive control over axes, colors, labels, legends, and layout.\n",
        "\n",
        "7. **Supports Animation and 3D**\n",
        "\n",
        "   * Ideal for visualizing time series, simulations, and multi-dimensional datasets.\n",
        "\n",
        "8. **Cross-Language Compatibility**\n",
        "\n",
        "   * Works with Python, R, JavaScript, Julia, and other programming environments.\n",
        "\n",
        "---\n",
        "\n",
        "\n",
        "\n",
        "Plotly is preferred for **modern, interactive, and web-based data visualizations**. Its intuitive syntax, built-in interactivity, and extensive features make it a top choice for **data analysts, scientists, and developers** building dashboards or engaging reports.\n"
      ]
    },
    {
      "cell_type": "markdown",
      "metadata": {
        "id": "mYozJJW-97Q7"
      },
      "source": [
        "#Q15. How Does NumPy Handle Multidimensional Arrays?\n",
        "\n",
        "\n",
        "#Ans.\n",
        "\n",
        "---\n",
        "\n",
        "#### **Explanation:**\n",
        "\n",
        "NumPy handles multidimensional arrays using its core data structure called the **`ndarray`** (n-dimensional array). This allows NumPy to store and operate on **data in multiple dimensions** efficiently and consistently.\n",
        "\n",
        "---\n",
        "\n",
        "###  Key Points on Multidimensional Array Handling in NumPy:\n",
        "\n",
        "1. **N-Dimensional Support (`ndarray`):**\n",
        "   NumPy arrays can have **1-D, 2-D, 3-D, or more** dimensions, making it suitable for handling complex datasets like images, tensors, or matrices.\n",
        "\n",
        "2. **Shape Attribute (`.shape`):**\n",
        "   Each array has a **shape** that tells how many elements exist along each dimension (e.g., `(3, 4)` means 3 rows and 4 columns).\n",
        "\n",
        "3. **Efficient Memory Layout:**\n",
        "   Data is stored in **contiguous memory blocks**, which boosts performance during computations.\n",
        "\n",
        "4. **Axis-Based Operations:**\n",
        "   Many functions in NumPy can operate along a **specified axis**, making it easy to compute row-wise or column-wise statistics.\n",
        "\n",
        "5. **Broadcasting in Multiple Dimensions:**\n",
        "   NumPy supports **broadcasting**, allowing arrays with different shapes to be used together in arithmetic operations without explicit reshaping.\n",
        "\n",
        "6. **Reshaping and Transposing:**\n",
        "   Functions like `.reshape()`, `.transpose()`, and `.swapaxes()` help modify the structure of arrays without changing the data.\n",
        "\n",
        "---\n",
        "\n",
        "\n",
        "\n",
        "NumPy handles multidimensional arrays through its **powerful `ndarray` structure**, allowing for **efficient storage, fast computation, and flexible manipulation** of multi-dimensional data. This makes it a foundational tool in scientific computing, data analysis, and machine learning."
      ]
    },
    {
      "cell_type": "markdown",
      "metadata": {
        "id": "WPX4mspA-Ofk"
      },
      "source": [
        "#Q16.What Is the Role of **Bokeh** in Data Visualization?\n",
        "\n",
        "\n",
        "#Ans.\n",
        "\n",
        "---\n",
        "\n",
        "####  **Explanation:**\n",
        "\n",
        "**Bokeh** is a powerful Python library for creating **interactive and web-ready visualizations**. Its main role is to help users build **rich, dynamic graphics** that can be embedded into web applications or dashboards **without needing JavaScript**.\n",
        "\n",
        "---\n",
        "\n",
        "###  Role and Key Benefits of Bokeh:\n",
        "\n",
        "1. **Interactive Visualizations:**\n",
        "\n",
        "   * Enables tools like **zooming**, **hover tooltips**, **panning**, and **click events** right out of the box.\n",
        "\n",
        "2. **Web Integration:**\n",
        "\n",
        "   * Visualizations are rendered using **HTML, CSS, and JavaScript**, making them ideal for **web-based dashboards**.\n",
        "\n",
        "3. **Large Dataset Handling:**\n",
        "\n",
        "   * Can stream and display **large or real-time datasets efficiently**, especially when used with Bokeh Server.\n",
        "\n",
        "4. **Custom Layouts & Widgets:**\n",
        "\n",
        "   * Supports building complex layouts with **sliders**, **dropdowns**, and **buttons** to make fully interactive UIs.\n",
        "\n",
        "5. **No JavaScript Required:**\n",
        "\n",
        "   * Offers powerful plotting capabilities **in pure Python**, while still outputting browser-ready plots.\n",
        "\n",
        "6. **Supports Multiple Output Formats:**\n",
        "\n",
        "   * Can display plots in **Jupyter Notebooks**, **HTML files**, or **web apps** built using **Bokeh Server**.\n",
        "\n",
        "---\n",
        "\n",
        "\n",
        "**Bokeh** plays a vital role in **modern, interactive data visualization**. It empowers analysts, developers, and data scientists to build **engaging, browser-based visual reports and dashboards**, all while coding in Python.\n",
        "\n"
      ]
    },
    {
      "cell_type": "markdown",
      "metadata": {
        "id": "GLw5qprsAWsq"
      },
      "source": [
        "#Q17. Explain the Difference Between `apply()` and `map()` in Pandas\n",
        "\n",
        "---\n",
        "\n",
        "#### **Explanation:**\n",
        "\n",
        "In **Pandas**, both `apply()` and `map()` are used to apply functions to data, but they differ in **scope**, **flexibility**, and **use cases**.\n",
        "\n",
        "---\n",
        "\n",
        "###  **`map()` Function:**\n",
        "\n",
        "* **Used With:** Only **Series** (usually a single column).\n",
        "* **Purpose:** Applies a function **element-wise** to each value in a Series.\n",
        "* **Simpler** and generally used for **value transformation or mapping**.\n",
        "\n",
        "####  Use Cases:\n",
        "\n",
        "* Replacing values using a dictionary.\n",
        "* Applying a lambda or custom function to each element.\n",
        "\n",
        "---\n",
        "\n",
        "### **`apply()` Function:**\n",
        "\n",
        "* **Used With:** Both **Series and DataFrames**.\n",
        "* **Purpose:** Applies a function along an **axis** (rows or columns).\n",
        "* **More flexible** — can be used to apply row-wise or column-wise logic.\n",
        "\n",
        "####  Use Cases:\n",
        "\n",
        "* Complex row/column operations.\n",
        "* Aggregation or transformation on entire rows/columns.\n",
        "* Applying custom functions that return more than one value.\n",
        "\n",
        "---\n",
        "\n",
        "### Key Differences:\n",
        "\n",
        "| Feature        | `map()`              | `apply()`                               |\n",
        "| -------------- | -------------------- | --------------------------------------- |\n",
        "| Applicable To  | Series only          | Series and DataFrame                    |\n",
        "| Function Scope | Element-wise         | Row-wise or column-wise                 |\n",
        "| Flexibility    | Limited              | Very flexible                           |\n",
        "| Common Use     | Value transformation | Complex operations and custom functions |\n",
        "| Returns        | Series               | Series, DataFrame, or scalar            |\n",
        "\n",
        "---\n",
        "\n",
        "\n",
        "\n",
        "* Use **`map()`** for **simple, element-wise operations** on a Series.\n",
        "* Use **`apply()`** for **more complex operations** on either rows or columns in a Series or DataFrame.\n",
        "\n"
      ]
    },
    {
      "cell_type": "markdown",
      "metadata": {
        "id": "KptJAPHOAvWN"
      },
      "source": [
        "#Q18 What Are Some Advanced Features of **NumPy**?\n",
        "\n",
        "---\n",
        "\n",
        "NumPy is not just about basic arrays and numerical operations. It includes **advanced features** that support **high-performance computing**, **scientific analysis**, and **complex data manipulations**.\n",
        "\n",
        "---\n",
        "\n",
        "### **Advanced Features of NumPy:**\n",
        "\n",
        "1. ###  **Broadcasting:**\n",
        "\n",
        "   * Allows operations between arrays of **different shapes** without explicit loops or reshaping.\n",
        "   * Saves memory and improves performance.\n",
        "\n",
        "2. ###  **Vectorization:**\n",
        "\n",
        "   * Performs operations **without explicit Python loops**, using optimized C-based code internally.\n",
        "   * Greatly improves **execution speed**.\n",
        "\n",
        "3. ###  **Masked Arrays:**\n",
        "\n",
        "   * Handle **invalid or missing data** by masking certain array elements.\n",
        "   * Useful in data cleaning and conditional analysis.\n",
        "\n",
        "4. ###  **Structured Arrays:**\n",
        "\n",
        "   * Support arrays with **heterogeneous data types** (like a table with different column types).\n",
        "   * Ideal for complex datasets and simulations.\n",
        "\n",
        "5. ###  **Memory Mapping (mmap):**\n",
        "\n",
        "   * Allows you to read/write **large binary files** directly to disk using memory-efficient methods.\n",
        "   * Especially useful for **big data** applications.\n",
        "\n",
        "6. ###  **Universal Functions (ufuncs):**\n",
        "\n",
        "   * Built-in, optimized functions that operate element-wise on arrays (like `np.sin()`, `np.exp()`).\n",
        "   * Also support **custom ufuncs** for specialized tasks.\n",
        "\n",
        "7. ###  **Linear Algebra Operations:**\n",
        "\n",
        "   * Includes powerful tools like `np.dot()`, `np.linalg.inv()`, `np.linalg.eig()`, etc.\n",
        "   * Essential for **machine learning, statistics, and scientific computing**.\n",
        "\n",
        "8. ### **Fourier Transform & Signal Processing:**\n",
        "\n",
        "   * Includes functions like `np.fft.fft()` for **frequency domain analysis**.\n",
        "   * Useful in **image and audio processing**.\n",
        "\n",
        "9. ### **Random Module (np.random):**\n",
        "\n",
        "   * Supports random number generation, sampling, and **probability distributions**.\n",
        "   * Frequently used in **simulation, modeling, and AI/ML** tasks.\n",
        "\n",
        "10. ### **Multidimensional Array Manipulation:**\n",
        "\n",
        "* Advanced reshaping, transposing, slicing, and stacking operations.\n",
        "* Provides great control over **high-dimensional data**.\n",
        "\n",
        "---\n",
        "\n",
        "\n",
        "\n",
        "NumPy offers a rich set of **advanced features** that make it a **powerful engine for numerical and scientific computing** in Python. These tools allow developers, analysts, and researchers to work with **complex, large-scale data efficiently**.\n",
        "\n"
      ]
    },
    {
      "cell_type": "markdown",
      "metadata": {
        "id": "WHZaK9WPBhu5"
      },
      "source": [
        "#Q19.How Does **Pandas** Simplify Time Series Analysis?\n",
        "\n",
        "---\n",
        "\n",
        "#### **Explanation:**\n",
        "\n",
        "**Pandas** makes **time series analysis** easy and efficient by providing powerful, built-in features for working with **date- and time-indexed data**. It supports **parsing, indexing, resampling, shifting, and frequency conversion**, making time-based data manipulation seamless.\n",
        "\n",
        "---\n",
        "\n",
        "### Key Ways Pandas Simplifies Time Series Analysis:\n",
        "\n",
        "1. ###  **DateTime Indexing**\n",
        "\n",
        "   * Pandas allows you to set a column as a **DateTime index**, enabling time-based slicing and filtering (e.g., selecting data from a specific year or month).\n",
        "\n",
        "2. ###  **Automatic Date Parsing**\n",
        "\n",
        "   * Converts strings to datetime objects using `pd.to_datetime()`, making it easy to work with timestamps.\n",
        "\n",
        "3. ###  **Resampling & Frequency Conversion**\n",
        "\n",
        "   * Easily **up-sample (e.g., daily to hourly)** or **down-sample (e.g., daily to monthly)** data using `.resample()` with aggregation functions like `mean()`, `sum()`, etc.\n",
        "\n",
        "4. ###  **Time-Based Slicing**\n",
        "\n",
        "   * You can slice data using natural time formats (e.g., `df['2023-01']` returns all data from January 2023).\n",
        "\n",
        "5. ###  **Rolling & Moving Window Calculations**\n",
        "\n",
        "   * Perform **moving averages**, **rolling statistics**, and other window-based operations using `.rolling()`.\n",
        "\n",
        "6. ###  **Shifting & Lagging Data**\n",
        "\n",
        "   * Shift time series forward or backward with `.shift()` or `.tshift()` for **lag analysis or forecasting models**.\n",
        "\n",
        "7. ###  **Handling Missing Time Points**\n",
        "\n",
        "   * Pandas provides tools to **fill in missing timestamps** and values (e.g., `.asfreq()`, `.fillna()`) to maintain continuity.\n",
        "\n",
        "8. ###  **Time Zones & Localization**\n",
        "\n",
        "   * Supports **time zone conversion** and localization, essential for global time series datasets.\n",
        "\n",
        "9. ### **Built-in Time Series Functions**\n",
        "\n",
        "   * Functions like `date_range()`, `bdate_range()`, and frequency aliases (`'M'` for monthly, `'D'` for daily) simplify time-based range creation.\n",
        "\n",
        "---\n",
        "\n",
        "\n",
        "\n",
        "Pandas streamlines time series analysis with its **robust DateTime support**, intuitive **resampling and shifting methods**, and **powerful time-indexing** capabilities. This makes it an essential tool for **financial analysis**, **forecasting**, **sensor data analysis**, and more.\n",
        "\n"
      ]
    },
    {
      "cell_type": "markdown",
      "metadata": {
        "id": "NzQtE6hDB9db"
      },
      "source": [
        "#Q20. What Is the Role of a **Pivot Table** in Pandas?\n",
        "\n",
        "---\n",
        "\n",
        "####  **Explanation:**\n",
        "\n",
        "A **pivot table** in Pandas is a powerful tool used to **summarize**, **analyze**, and **restructure** data. It allows you to **group and aggregate data** across one or more categorical variables, transforming a long dataset into a more readable, tabular format.\n",
        "\n",
        "---\n",
        "\n",
        "###  **Main Roles of a Pivot Table in Pandas:**\n",
        "\n",
        "1. ### **Data Summarization**\n",
        "\n",
        "   * It helps summarize large datasets by **grouping rows** based on one or more **index columns** and applying **aggregation functions** like `mean()`, `sum()`, `count()`, etc.\n",
        "\n",
        "2. ###  **Multi-Dimensional Analysis**\n",
        "\n",
        "   * Allows analysis along **multiple dimensions** by specifying values for **rows, columns, and values**, much like pivot tables in Excel.\n",
        "\n",
        "3. ###  **Improved Readability**\n",
        "\n",
        "   * Turns raw data into a **structured format** that makes it easier to interpret and spot patterns or trends.\n",
        "\n",
        "4. ###  **Flexible Aggregation**\n",
        "\n",
        "   * You can customize aggregation using different functions (e.g., mean, median, min, max), even applying **custom functions**.\n",
        "\n",
        "5. ###  **Efficient Comparison**\n",
        "\n",
        "   * Useful for comparing different categories side-by-side in a **cross-tabulated layout**.\n",
        "\n",
        "6. ###  **Missing Data Handling**\n",
        "\n",
        "   * Automatically handles missing data using **fill values** or custom settings, improving clarity in summary tables.\n",
        "\n",
        "---\n",
        "\n",
        "\n",
        "\n",
        "The **pivot table** in Pandas plays a crucial role in **data exploration** and **reporting**. It enables users to **reorganize and condense data** efficiently, making complex datasets more manageable and insights easier to uncover."
      ]
    },
    {
      "cell_type": "markdown",
      "metadata": {
        "id": "tIW7ZrkoCsrU"
      },
      "source": [
        "#Q21.Why Is **NumPy's Array Slicing** Faster Than Python's List Slicing?\n",
        "\n",
        "---\n",
        "\n",
        "####  **Explanation:**\n",
        "\n",
        "NumPy’s array slicing is faster than Python’s list slicing primarily because of its **underlying implementation in C** and its **contiguous memory layout**. While both allow slicing, NumPy is designed for **efficient numerical computations** on large datasets.\n",
        "\n",
        "---\n",
        "\n",
        "### Key Reasons for Faster Slicing in NumPy:\n",
        "\n",
        "1. ###  **Contiguous Memory Allocation**\n",
        "\n",
        "   * NumPy arrays are stored in a **single, continuous block of memory**.\n",
        "   * This enables faster access and slicing since data is **physically aligned** in memory.\n",
        "\n",
        "2. ###  **Homogeneous Data Types**\n",
        "\n",
        "   * NumPy arrays hold **elements of the same data type**, allowing optimized, low-level operations.\n",
        "   * Python lists are **heterogeneous**, requiring type checks for each element during slicing.\n",
        "\n",
        "3. ###  **Implemented in C**\n",
        "\n",
        "   * NumPy slicing operations are handled by **compiled C code** under the hood.\n",
        "   * Python lists are handled by the **Python interpreter**, which is slower.\n",
        "\n",
        "4. ###  **No Copying (Views)**\n",
        "\n",
        "   * Slicing in NumPy typically returns a **view** (a lightweight reference) instead of copying data.\n",
        "   * Python list slicing **creates a new list**, involving memory allocation and copying.\n",
        "\n",
        "5. ### **Vectorized Access**\n",
        "\n",
        "   * NumPy is built for **vectorized operations**, where slicing and computations are performed in **bulk** using optimized loops.\n",
        "   * Python lists rely on **interpreted loops**, which are much slower.\n",
        "\n",
        "---\n",
        "\n",
        "\n",
        "\n",
        "**NumPy array slicing** is significantly faster than **Python list slicing** due to:\n",
        "\n",
        "* **Efficient memory usage**\n",
        "* **Low-level optimization**\n",
        "* **No data copying**\n",
        "* **Homogeneous, numerical-focused structure**\n",
        "\n",
        "These characteristics make NumPy the go-to choice for **scientific computing and large-scale data analysis**."
      ]
    },
    {
      "cell_type": "markdown",
      "metadata": {
        "id": "E2naYl5CDAG5"
      },
      "source": [
        "#Q22.What Are Some Common Use Cases for **Seaborn**?\n",
        "\n",
        "---\n",
        "\n",
        "Seaborn is a powerful Python visualization library built on top of Matplotlib, designed especially for **statistical data visualization**. It offers a high-level, user-friendly interface to create beautiful and informative plots with minimal code.\n",
        "\n",
        "---\n",
        "\n",
        "### Common Use Cases of Seaborn:\n",
        "\n",
        "1. ###  **Exploratory Data Analysis (EDA)**\n",
        "\n",
        "   * Quickly visualize distributions, relationships, and trends in your data.\n",
        "   * Example plots: histograms, KDE plots, boxplots, violin plots.\n",
        "\n",
        "2. ###  **Visualizing Relationships Between Variables**\n",
        "\n",
        "   * Show correlations and interactions between variables using scatterplots, pairplots, and jointplots.\n",
        "   * Useful in identifying patterns or dependencies in datasets.\n",
        "\n",
        "3. ###  **Categorical Data Visualization**\n",
        "\n",
        "   * Visualize differences or distributions across categories using bar plots, count plots, boxplots, and swarm plots.\n",
        "\n",
        "4. ### **Statistical Modeling and Regression**\n",
        "\n",
        "   * Easily add regression lines and confidence intervals to scatterplots with `lmplot()` and `regplot()`.\n",
        "   * Visualize residuals, model fits, and trends.\n",
        "\n",
        "\n",
        "5. ###  **Heatmaps for Correlation and Matrix Data**\n",
        "\n",
        "   * Display correlation matrices or other 2D data as heatmaps with color encoding.\n",
        "   * Useful for identifying strong or weak relationships visually.\n",
        "\n",
        "6. ###  **Time Series and Sequential Data Visualization**\n",
        "\n",
        "   * Plot trends over time with line plots and smoothing techniques.\n",
        "\n",
        "7. ###  **Multi-Variable Analysis**\n",
        "\n",
        "   * Use `pairplot()` or `catplot()` to visualize relationships across several variables simultaneously.\n",
        "\n",
        "8. ###  **Statistical Summary Visualization**\n",
        "\n",
        "   * Use functions that integrate statistical aggregates like mean, median, or confidence intervals directly into plots.\n",
        "\n",
        "---\n",
        "\n",
        "\n",
        "\n",
        "Seaborn excels in creating **statistically rich, aesthetically pleasing visualizations** that help analysts and data scientists understand data distributions, relationships, and patterns quickly. It’s widely used in **data exploration**, **research**, **machine learning**, and **reporting**."
      ]
    },
    {
      "cell_type": "markdown",
      "metadata": {
        "id": "hiEn68gUDbiP"
      },
      "source": [
        "#Practical questions"
      ]
    },
    {
      "cell_type": "markdown",
      "metadata": {
        "id": "-vjZ-J_oCQYT"
      },
      "source": [
        "#Q1.How do you create a 2D NumPy array and calculate the sum of each row?"
      ]
    },
    {
      "cell_type": "code",
      "execution_count": null,
      "metadata": {
        "id": "lqYD1d5eqP7z"
      },
      "outputs": [],
      "source": [
        "import numpy as np"
      ]
    },
    {
      "cell_type": "code",
      "execution_count": null,
      "metadata": {
        "id": "1fVqRNxjCi55"
      },
      "outputs": [],
      "source": [
        "np1 = np.array([[1,2,3],[4,5,6],[7,8,9]])"
      ]
    },
    {
      "cell_type": "code",
      "execution_count": null,
      "metadata": {
        "colab": {
          "base_uri": "https://localhost:8080/"
        },
        "id": "tfldf26FDXkn",
        "outputId": "97cbd3a9-15a9-4358-fbc5-c70183403452"
      },
      "outputs": [
        {
          "data": {
            "text/plain": [
              "array([[1, 2, 3],\n",
              "       [4, 5, 6],\n",
              "       [7, 8, 9]])"
            ]
          },
          "execution_count": 5,
          "metadata": {},
          "output_type": "execute_result"
        }
      ],
      "source": [
        "np1"
      ]
    },
    {
      "cell_type": "code",
      "execution_count": null,
      "metadata": {
        "colab": {
          "base_uri": "https://localhost:8080/"
        },
        "id": "IN80DyUlEXE9",
        "outputId": "b949238d-253d-4d24-e970-0f1cfc362dbc"
      },
      "outputs": [
        {
          "name": "stdout",
          "output_type": "stream",
          "text": [
            "[ 6 15 24]\n"
          ]
        }
      ],
      "source": [
        "print(np.sum(np1, axis=1)) # axis=1 row wise sum left to rigth"
      ]
    },
    {
      "cell_type": "markdown",
      "metadata": {
        "id": "S4ohLzwnFnni"
      },
      "source": [
        "#Q2.Write a Pandas script to find the mean of a specific column in a DataFrame.\n"
      ]
    },
    {
      "cell_type": "code",
      "execution_count": null,
      "metadata": {
        "id": "k4VoQJvNFU5J"
      },
      "outputs": [],
      "source": [
        "import pandas as pd"
      ]
    },
    {
      "cell_type": "code",
      "execution_count": null,
      "metadata": {
        "id": "2QRvxBVLF8rs"
      },
      "outputs": [],
      "source": [
        " data = {\n",
        "    'Name': ['sunny', 'nandu', 'manish', 'raju'],\n",
        "    'Age': [25, 30, 35, 40],\n",
        "    'Salary': [50000, 55000, 60000, 65000]\n",
        "}\n"
      ]
    },
    {
      "cell_type": "code",
      "execution_count": null,
      "metadata": {
        "id": "VihS4NrQGzBA"
      },
      "outputs": [],
      "source": [
        "df = pd.DataFrame(data)"
      ]
    },
    {
      "cell_type": "code",
      "execution_count": null,
      "metadata": {
        "id": "DNfNCr4dG4Zb"
      },
      "outputs": [],
      "source": [
        "mean_salary = df[\"Salary\"].mean()"
      ]
    },
    {
      "cell_type": "code",
      "execution_count": null,
      "metadata": {
        "colab": {
          "base_uri": "https://localhost:8080/"
        },
        "id": "tvFu1VxcJHm7",
        "outputId": "dfc43a72-4f25-43b2-a0ae-735decbfb060"
      },
      "outputs": [
        {
          "name": "stdout",
          "output_type": "stream",
          "text": [
            "mean Salary: 57500.0\n"
          ]
        }
      ],
      "source": [
        "print(\"mean Salary:\", mean_salary)"
      ]
    },
    {
      "cell_type": "markdown",
      "metadata": {
        "id": "RpJWpcROKMs0"
      },
      "source": [
        "#Q3.Create a scatter plot using Matplotlib.\n"
      ]
    },
    {
      "cell_type": "code",
      "execution_count": null,
      "metadata": {
        "colab": {
          "base_uri": "https://localhost:8080/",
          "height": 472
        },
        "id": "QXtO05JUJwxj",
        "outputId": "e804f670-e26e-4065-fcb1-28d410a28c7b"
      },
      "outputs": [
        {
          "data": {
            "image/png": "[encoded data removed]",
            "text/plain": [
              "<Figure size 640x480 with 1 Axes>"
            ]
          },
          "metadata": {},
          "output_type": "display_data"
        }
      ],
      "source": [
        "import matplotlib.pyplot as plt\n",
        "\n",
        "# Sample data\n",
        "x = [10, 20, 30, 40, 50]\n",
        "y = [15, 25, 35, 45, 55]\n",
        "\n",
        "# Create scatter plot\n",
        "plt.scatter(x, y, color='blue', marker='o')\n",
        "\n",
        "# Add labels and title\n",
        "plt.xlabel('X Axis')\n",
        "plt.ylabel('Y Axis')\n",
        "plt.title('Simple Scatter Plot')\n",
        "\n",
        "# Show the plot\n",
        "plt.show()\n"
      ]
    },
    {
      "cell_type": "markdown",
      "metadata": {
        "id": "hr9Az94NLo_M"
      },
      "source": [
        "#Q4.How do you calculate the correlation matrix using Seaborn and visualize it with a heatmap?"
      ]
    },
    {
      "cell_type": "code",
      "execution_count": null,
      "metadata": {
        "colab": {
          "base_uri": "https://localhost:8080/",
          "height": 452
        },
        "id": "2WxlQ4MVKpKW",
        "outputId": "27b65e67-0505-463a-d184-d3f8ad45ec92"
      },
      "outputs": [
        {
          "data": {
            "image/png": "[encoded data removed]",
            "text/plain": [
              "<Figure size 640x480 with 2 Axes>"
            ]
          },
          "metadata": {},
          "output_type": "display_data"
        }
      ],
      "source": [
        "import pandas as pd\n",
        "import seaborn as sns\n",
        "import matplotlib.pyplot as plt\n",
        "\n",
        "# Sample DataFrame\n",
        "data = {\n",
        "    'Age': [25, 30, 35, 40, 45],\n",
        "    'Salary': [50000, 55000, 60000, 65000, 70000],\n",
        "    'Experience': [1, 3, 5, 7, 9]\n",
        "}\n",
        "df = pd.DataFrame(data)\n",
        "\n",
        "# Step 1: Calculate the correlation matrix\n",
        "corr_matrix = df.corr()\n",
        "\n",
        "# Step 2: Visualize with Seaborn heatmap\n",
        "sns.heatmap(corr_matrix, annot=True, cmap='coolwarm', linewidths=0.5)\n",
        "\n",
        "plt.title('Correlation Matrix Heatmap')\n",
        "plt.show()\n"
      ]
    },
    {
      "cell_type": "markdown",
      "metadata": {
        "id": "pspHX8-ELYPH"
      },
      "source": [
        "#Q5.Generate a bar plot using Plotly.\n"
      ]
    },
    {
      "cell_type": "code",
      "execution_count": null,
      "metadata": {
        "colab": {
          "base_uri": "https://localhost:8080/",
          "height": 542
        },
        "id": "F5upSBRuK9La",
        "outputId": "d948105d-b262-4e4d-ef15-00b7f9caf74e"
      },
      "outputs": [
        {
          "data": {
            "text/html": [
              "<html>\n",
              "<head><meta charset=\"utf-8\" /></head>\n",
              "<body>\n",
              "    <div>            <script src=\"https://cdnjs.cloudflare.com/ajax/libs/mathjax/2.7.5/MathJax.js?config=TeX-AMS-MML_SVG\"></script><script type=\"text/javascript\">if (window.MathJax && window.MathJax.Hub && window.MathJax.Hub.Config) {window.MathJax.Hub.Config({SVG: {font: \"STIX-Web\"}});}</script>                <script type=\"text/javascript\">window.PlotlyConfig = {MathJaxConfig: 'local'};</script>\n",
              "        <script charset=\"utf-8\" src=\"https://cdn.plot.ly/plotly-2.35.2.min.js\"></script>                <div id=\"f405103f-2402-4ca3-8069-12724397564b\" class=\"plotly-graph-div\" style=\"height:525px; width:100%;\"></div>            <script type=\"text/javascript\">                                    window.PLOTLYENV=window.PLOTLYENV || {};                                    if (document.getElementById(\"f405103f-2402-4ca3-8069-12724397564b\")) {                    Plotly.newPlot(                        \"f405103f-2402-4ca3-8069-12724397564b\",                        [{\"alignmentgroup\":\"True\",\"hovertemplate\":\"Department=%{x}\\u003cbr\\u003eEmployees=%{y}\\u003cextra\\u003e\\u003c\\u002fextra\\u003e\",\"legendgroup\":\"\",\"marker\":{\"color\":\"#636efa\",\"pattern\":{\"shape\":\"\"}},\"name\":\"\",\"offsetgroup\":\"\",\"orientation\":\"v\",\"showlegend\":false,\"textposition\":\"auto\",\"x\":[\"HR\",\"Finance\",\"IT\",\"Sales\",\"Marketing\"],\"xaxis\":\"x\",\"y\":[5,10,8,15,7],\"yaxis\":\"y\",\"type\":\"bar\"}],                        {\"template\":{\"data\":{\"histogram2dcontour\":[{\"type\":\"histogram2dcontour\",\"colorbar\":{\"outlinewidth\":0,\"ticks\":\"\"},\"colorscale\":[[0.0,\"#0d0887\"],[0.1111111111111111,\"#46039f\"],[0.2222222222222222,\"#7201a8\"],[0.3333333333333333,\"#9c179e\"],[0.4444444444444444,\"#bd3786\"],[0.5555555555555556,\"#d8576b\"],[0.6666666666666666,\"#ed7953\"],[0.7777777777777778,\"#fb9f3a\"],[0.8888888888888888,\"#fdca26\"],[1.0,\"#f0f921\"]]}],\"choropleth\":[{\"type\":\"choropleth\",\"colorbar\":{\"outlinewidth\":0,\"ticks\":\"\"}}],\"histogram2d\":[{\"type\":\"histogram2d\",\"colorbar\":{\"outlinewidth\":0,\"ticks\":\"\"},\"colorscale\":[[0.0,\"#0d0887\"],[0.1111111111111111,\"#46039f\"],[0.2222222222222222,\"#7201a8\"],[0.3333333333333333,\"#9c179e\"],[0.4444444444444444,\"#bd3786\"],[0.5555555555555556,\"#d8576b\"],[0.6666666666666666,\"#ed7953\"],[0.7777777777777778,\"#fb9f3a\"],[0.8888888888888888,\"#fdca26\"],[1.0,\"#f0f921\"]]}],\"heatmap\":[{\"type\":\"heatmap\",\"colorbar\":{\"outlinewidth\":0,\"ticks\":\"\"},\"colorscale\":[[0.0,\"#0d0887\"],[0.1111111111111111,\"#46039f\"],[0.2222222222222222,\"#7201a8\"],[0.3333333333333333,\"#9c179e\"],[0.4444444444444444,\"#bd3786\"],[0.5555555555555556,\"#d8576b\"],[0.6666666666666666,\"#ed7953\"],[0.7777777777777778,\"#fb9f3a\"],[0.8888888888888888,\"#fdca26\"],[1.0,\"#f0f921\"]]}],\"heatmapgl\":[{\"type\":\"heatmapgl\",\"colorbar\":{\"outlinewidth\":0,\"ticks\":\"\"},\"colorscale\":[[0.0,\"#0d0887\"],[0.1111111111111111,\"#46039f\"],[0.2222222222222222,\"#7201a8\"],[0.3333333333333333,\"#9c179e\"],[0.4444444444444444,\"#bd3786\"],[0.5555555555555556,\"#d8576b\"],[0.6666666666666666,\"#ed7953\"],[0.7777777777777778,\"#fb9f3a\"],[0.8888888888888888,\"#fdca26\"],[1.0,\"#f0f921\"]]}],\"contourcarpet\":[{\"type\":\"contourcarpet\",\"colorbar\":{\"outlinewidth\":0,\"ticks\":\"\"}}],\"contour\":[{\"type\":\"contour\",\"colorbar\":{\"outlinewidth\":0,\"ticks\":\"\"},\"colorscale\":[[0.0,\"#0d0887\"],[0.1111111111111111,\"#46039f\"],[0.2222222222222222,\"#7201a8\"],[0.3333333333333333,\"#9c179e\"],[0.4444444444444444,\"#bd3786\"],[0.5555555555555556,\"#d8576b\"],[0.6666666666666666,\"#ed7953\"],[0.7777777777777778,\"#fb9f3a\"],[0.8888888888888888,\"#fdca26\"],[1.0,\"#f0f921\"]]}],\"surface\":[{\"type\":\"surface\",\"colorbar\":{\"outlinewidth\":0,\"ticks\":\"\"},\"colorscale\":[[0.0,\"#0d0887\"],[0.1111111111111111,\"#46039f\"],[0.2222222222222222,\"#7201a8\"],[0.3333333333333333,\"#9c179e\"],[0.4444444444444444,\"#bd3786\"],[0.5555555555555556,\"#d8576b\"],[0.6666666666666666,\"#ed7953\"],[0.7777777777777778,\"#fb9f3a\"],[0.8888888888888888,\"#fdca26\"],[1.0,\"#f0f921\"]]}],\"mesh3d\":[{\"type\":\"mesh3d\",\"colorbar\":{\"outlinewidth\":0,\"ticks\":\"\"}}],\"scatter\":[{\"fillpattern\":{\"fillmode\":\"overlay\",\"size\":10,\"solidity\":0.2},\"type\":\"scatter\"}],\"parcoords\":[{\"type\":\"parcoords\",\"line\":{\"colorbar\":{\"outlinewidth\":0,\"ticks\":\"\"}}}],\"scatterpolargl\":[{\"type\":\"scatterpolargl\",\"marker\":{\"colorbar\":{\"outlinewidth\":0,\"ticks\":\"\"}}}],\"bar\":[{\"error_x\":{\"color\":\"#2a3f5f\"},\"error_y\":{\"color\":\"#2a3f5f\"},\"marker\":{\"line\":{\"color\":\"#E5ECF6\",\"width\":0.5},\"pattern\":{\"fillmode\":\"overlay\",\"size\":10,\"solidity\":0.2}},\"type\":\"bar\"}],\"scattergeo\":[{\"type\":\"scattergeo\",\"marker\":{\"colorbar\":{\"outlinewidth\":0,\"ticks\":\"\"}}}],\"scatterpolar\":[{\"type\":\"scatterpolar\",\"marker\":{\"colorbar\":{\"outlinewidth\":0,\"ticks\":\"\"}}}],\"histogram\":[{\"marker\":{\"pattern\":{\"fillmode\":\"overlay\",\"size\":10,\"solidity\":0.2}},\"type\":\"histogram\"}],\"scattergl\":[{\"type\":\"scattergl\",\"marker\":{\"colorbar\":{\"outlinewidth\":0,\"ticks\":\"\"}}}],\"scatter3d\":[{\"type\":\"scatter3d\",\"line\":{\"colorbar\":{\"outlinewidth\":0,\"ticks\":\"\"}},\"marker\":{\"colorbar\":{\"outlinewidth\":0,\"ticks\":\"\"}}}],\"scattermapbox\":[{\"type\":\"scattermapbox\",\"marker\":{\"colorbar\":{\"outlinewidth\":0,\"ticks\":\"\"}}}],\"scatterternary\":[{\"type\":\"scatterternary\",\"marker\":{\"colorbar\":{\"outlinewidth\":0,\"ticks\":\"\"}}}],\"scattercarpet\":[{\"type\":\"scattercarpet\",\"marker\":{\"colorbar\":{\"outlinewidth\":0,\"ticks\":\"\"}}}],\"carpet\":[{\"aaxis\":{\"endlinecolor\":\"#2a3f5f\",\"gridcolor\":\"white\",\"linecolor\":\"white\",\"minorgridcolor\":\"white\",\"startlinecolor\":\"#2a3f5f\"},\"baxis\":{\"endlinecolor\":\"#2a3f5f\",\"gridcolor\":\"white\",\"linecolor\":\"white\",\"minorgridcolor\":\"white\",\"startlinecolor\":\"#2a3f5f\"},\"type\":\"carpet\"}],\"table\":[{\"cells\":{\"fill\":{\"color\":\"#EBF0F8\"},\"line\":{\"color\":\"white\"}},\"header\":{\"fill\":{\"color\":\"#C8D4E3\"},\"line\":{\"color\":\"white\"}},\"type\":\"table\"}],\"barpolar\":[{\"marker\":{\"line\":{\"color\":\"#E5ECF6\",\"width\":0.5},\"pattern\":{\"fillmode\":\"overlay\",\"size\":10,\"solidity\":0.2}},\"type\":\"barpolar\"}],\"pie\":[{\"automargin\":true,\"type\":\"pie\"}]},\"layout\":{\"autotypenumbers\":\"strict\",\"colorway\":[\"#636efa\",\"#EF553B\",\"#00cc96\",\"#ab63fa\",\"#FFA15A\",\"#19d3f3\",\"#FF6692\",\"#B6E880\",\"#FF97FF\",\"#FECB52\"],\"font\":{\"color\":\"#2a3f5f\"},\"hovermode\":\"closest\",\"hoverlabel\":{\"align\":\"left\"},\"paper_bgcolor\":\"white\",\"plot_bgcolor\":\"#E5ECF6\",\"polar\":{\"bgcolor\":\"#E5ECF6\",\"angularaxis\":{\"gridcolor\":\"white\",\"linecolor\":\"white\",\"ticks\":\"\"},\"radialaxis\":{\"gridcolor\":\"white\",\"linecolor\":\"white\",\"ticks\":\"\"}},\"ternary\":{\"bgcolor\":\"#E5ECF6\",\"aaxis\":{\"gridcolor\":\"white\",\"linecolor\":\"white\",\"ticks\":\"\"},\"baxis\":{\"gridcolor\":\"white\",\"linecolor\":\"white\",\"ticks\":\"\"},\"caxis\":{\"gridcolor\":\"white\",\"linecolor\":\"white\",\"ticks\":\"\"}},\"coloraxis\":{\"colorbar\":{\"outlinewidth\":0,\"ticks\":\"\"}},\"colorscale\":{\"sequential\":[[0.0,\"#0d0887\"],[0.1111111111111111,\"#46039f\"],[0.2222222222222222,\"#7201a8\"],[0.3333333333333333,\"#9c179e\"],[0.4444444444444444,\"#bd3786\"],[0.5555555555555556,\"#d8576b\"],[0.6666666666666666,\"#ed7953\"],[0.7777777777777778,\"#fb9f3a\"],[0.8888888888888888,\"#fdca26\"],[1.0,\"#f0f921\"]],\"sequentialminus\":[[0.0,\"#0d0887\"],[0.1111111111111111,\"#46039f\"],[0.2222222222222222,\"#7201a8\"],[0.3333333333333333,\"#9c179e\"],[0.4444444444444444,\"#bd3786\"],[0.5555555555555556,\"#d8576b\"],[0.6666666666666666,\"#ed7953\"],[0.7777777777777778,\"#fb9f3a\"],[0.8888888888888888,\"#fdca26\"],[1.0,\"#f0f921\"]],\"diverging\":[[0,\"#8e0152\"],[0.1,\"#c51b7d\"],[0.2,\"#de77ae\"],[0.3,\"#f1b6da\"],[0.4,\"#fde0ef\"],[0.5,\"#f7f7f7\"],[0.6,\"#e6f5d0\"],[0.7,\"#b8e186\"],[0.8,\"#7fbc41\"],[0.9,\"#4d9221\"],[1,\"#276419\"]]},\"xaxis\":{\"gridcolor\":\"white\",\"linecolor\":\"white\",\"ticks\":\"\",\"title\":{\"standoff\":15},\"zerolinecolor\":\"white\",\"automargin\":true,\"zerolinewidth\":2},\"yaxis\":{\"gridcolor\":\"white\",\"linecolor\":\"white\",\"ticks\":\"\",\"title\":{\"standoff\":15},\"zerolinecolor\":\"white\",\"automargin\":true,\"zerolinewidth\":2},\"scene\":{\"xaxis\":{\"backgroundcolor\":\"#E5ECF6\",\"gridcolor\":\"white\",\"linecolor\":\"white\",\"showbackground\":true,\"ticks\":\"\",\"zerolinecolor\":\"white\",\"gridwidth\":2},\"yaxis\":{\"backgroundcolor\":\"#E5ECF6\",\"gridcolor\":\"white\",\"linecolor\":\"white\",\"showbackground\":true,\"ticks\":\"\",\"zerolinecolor\":\"white\",\"gridwidth\":2},\"zaxis\":{\"backgroundcolor\":\"#E5ECF6\",\"gridcolor\":\"white\",\"linecolor\":\"white\",\"showbackground\":true,\"ticks\":\"\",\"zerolinecolor\":\"white\",\"gridwidth\":2}},\"shapedefaults\":{\"line\":{\"color\":\"#2a3f5f\"}},\"annotationdefaults\":{\"arrowcolor\":\"#2a3f5f\",\"arrowhead\":0,\"arrowwidth\":1},\"geo\":{\"bgcolor\":\"white\",\"landcolor\":\"#E5ECF6\",\"subunitcolor\":\"white\",\"showland\":true,\"showlakes\":true,\"lakecolor\":\"white\"},\"title\":{\"x\":0.05},\"mapbox\":{\"style\":\"light\"}}},\"xaxis\":{\"anchor\":\"y\",\"domain\":[0.0,1.0],\"title\":{\"text\":\"Department\"}},\"yaxis\":{\"anchor\":\"x\",\"domain\":[0.0,1.0],\"title\":{\"text\":\"Employees\"}},\"legend\":{\"tracegroupgap\":0},\"title\":{\"text\":\"Employees per Department\"},\"barmode\":\"relative\"},                        {\"responsive\": true}                    ).then(function(){\n",
              "                            \n",
              "var gd = document.getElementById('f405103f-2402-4ca3-8069-12724397564b');\n",
              "var x = new MutationObserver(function (mutations, observer) {{\n",
              "        var display = window.getComputedStyle(gd).display;\n",
              "        if (!display || display === 'none') {{\n",
              "            console.log([gd, 'removed!']);\n",
              "            Plotly.purge(gd);\n",
              "            observer.disconnect();\n",
              "        }}\n",
              "}});\n",
              "\n",
              "// Listen for the removal of the full notebook cells\n",
              "var notebookContainer = gd.closest('#notebook-container');\n",
              "if (notebookContainer) {{\n",
              "    x.observe(notebookContainer, {childList: true});\n",
              "}}\n",
              "\n",
              "// Listen for the clearing of the current output cell\n",
              "var outputEl = gd.closest('.output');\n",
              "if (outputEl) {{\n",
              "    x.observe(outputEl, {childList: true});\n",
              "}}\n",
              "\n",
              "                        })                };                            </script>        </div>\n",
              "</body>\n",
              "</html>"
            ]
          },
          "metadata": {},
          "output_type": "display_data"
        }
      ],
      "source": [
        "import plotly.express as px\n",
        "import pandas as pd\n",
        "\n",
        "# Sample data\n",
        "data = {\n",
        "    'Department': ['HR', 'Finance', 'IT', 'Sales', 'Marketing'],\n",
        "    'Employees': [5, 10, 8, 15, 7]\n",
        "}\n",
        "df = pd.DataFrame(data)\n",
        "\n",
        "# Create a bar plot\n",
        "fig = px.bar(df, x='Department', y='Employees', title='Employees per Department')\n",
        "\n",
        "# Show the plot\n",
        "fig.show()\n"
      ]
    },
    {
      "cell_type": "markdown",
      "metadata": {
        "id": "bgyr50waMgI2"
      },
      "source": [
        "#Q6.Create a DataFrame and add a new column based on an existing column.\n"
      ]
    },
    {
      "cell_type": "code",
      "source": [
        "import pandas as pd\n",
        "\n",
        "# Step 1: Create a sample DataFrame\n",
        "data = {\n",
        "    'Name': ['sunny', 'manish', 'ankur', 'raju'],\n",
        "    'Salary': [50000, 60000, 55000, 65000]\n",
        "}\n",
        "\n",
        "df = pd.DataFrame(data)\n",
        "\n",
        "# Step 2: Add a new column based on the 'Salary' column\n",
        "# Let's say we calculate a 10% bonus\n",
        "df['Bonus'] = df['Salary'] * 0.10\n",
        "\n",
        "# Display the updated DataFrame\n",
        "print(df)\n"
      ],
      "metadata": {
        "colab": {
          "base_uri": "https://localhost:8080/"
        },
        "id": "bMBFeF9sPimS",
        "outputId": "6f1fd9c6-2973-4bf7-d131-e64a0922b4a0"
      },
      "execution_count": null,
      "outputs": [
        {
          "output_type": "stream",
          "name": "stdout",
          "text": [
            "     Name  Salary   Bonus\n",
            "0   sunny   50000  5000.0\n",
            "1  manish   60000  6000.0\n",
            "2   ankur   55000  5500.0\n",
            "3    raju   65000  6500.0\n"
          ]
        }
      ]
    },
    {
      "cell_type": "markdown",
      "source": [
        "#Q7.Write a program to perform element-wise multiplication of two NumPy arrays.\n"
      ],
      "metadata": {
        "id": "wAOrM73pQbZ5"
      }
    },
    {
      "cell_type": "code",
      "source": [
        "import numpy as np\n",
        "\n",
        "# Create two NumPy arrays\n",
        "array1 = np.array([1, 2, 3, 4])\n",
        "array2 = np.array([10, 20, 30, 40])\n",
        "\n",
        "# Perform element-wise multiplication\n",
        "result = array1 * array2\n",
        "\n",
        "# Display the result\n",
        "print(\"Array 1:\", array1)\n",
        "print(\"Array 2:\", array2)\n",
        "print(\"Element-wise Multiplication:\", result)\n"
      ],
      "metadata": {
        "colab": {
          "base_uri": "https://localhost:8080/"
        },
        "id": "cC--kJgPQIVV",
        "outputId": "47fd6125-b209-4b51-f1d3-80627864b3d4"
      },
      "execution_count": null,
      "outputs": [
        {
          "output_type": "stream",
          "name": "stdout",
          "text": [
            "Array 1: [1 2 3 4]\n",
            "Array 2: [10 20 30 40]\n",
            "Element-wise Multiplication: [ 10  40  90 160]\n"
          ]
        }
      ]
    },
    {
      "cell_type": "markdown",
      "source": [
        "#Q8.Create a line plot with multiple lines using Matplotlib.\n"
      ],
      "metadata": {
        "id": "Owfr3vSeRUbi"
      }
    },
    {
      "cell_type": "code",
      "source": [
        "import matplotlib.pyplot as plt\n",
        "\n",
        "# Sample data\n",
        "years = [2018, 2019, 2020, 2021, 2022]\n",
        "sales_A = [100, 150, 200, 250, 300]\n",
        "sales_B = [80, 120, 180, 220, 260]\n",
        "\n",
        "# Create a line plot with multiple lines\n",
        "plt.plot(years, sales_A, label='Product A', marker='o', color='blue')\n",
        "plt.plot(years, sales_B, label='Product B', marker='s', color='green')\n",
        "\n",
        "# Add labels, title, and legend\n",
        "plt.xlabel('Year')\n",
        "plt.ylabel('Sales')\n",
        "plt.title('Yearly Sales Comparison')\n",
        "plt.legend()\n",
        "plt.grid(True)\n",
        "\n",
        "# Show the plot\n",
        "plt.show()\n"
      ],
      "metadata": {
        "colab": {
          "base_uri": "https://localhost:8080/",
          "height": 472
        },
        "id": "Y3ycQ8e7QoFn",
        "outputId": "c01aa277-8f13-4fee-c5cc-b50d60c9cea3"
      },
      "execution_count": null,
      "outputs": [
        {
          "output_type": "display_data",
          "data": {
            "text/plain": [
              "<Figure size 640x480 with 1 Axes>"
            ],
            "image/png": "[encoded data removed]"
          },
          "metadata": {}
        }
      ]
    },
    {
      "cell_type": "markdown",
      "source": [
        "#Q9.Generate a Pandas DataFrame and filter rows where a column value is greater than a threshold.\n"
      ],
      "metadata": {
        "id": "Ncm7z2ImRoMc"
      }
    },
    {
      "cell_type": "code",
      "source": [
        "import pandas as pd\n",
        "\n",
        "# Step 1: Create a sample DataFrame\n",
        "data = {\n",
        "    'Name': ['nandu', 'sunny', 'ankur', 'rhenuma', 'riya'],\n",
        "    'Marks': [85, 40, 78, 90, 60]\n",
        "}\n",
        "\n",
        "df = pd.DataFrame(data)\n",
        "\n",
        "# Step 2: Filter rows where 'Marks' > 70\n",
        "filtered_df = df[df['Marks'] > 70]\n",
        "\n",
        "# Display the filtered DataFrame\n",
        "print(\"Filtered DataFrame (Marks > 70):\")\n",
        "print(filtered_df)\n"
      ],
      "metadata": {
        "colab": {
          "base_uri": "https://localhost:8080/"
        },
        "id": "A3mmD32IRlzv",
        "outputId": "eb2d66dc-1f36-429e-b207-47cd5a5c5a81"
      },
      "execution_count": null,
      "outputs": [
        {
          "output_type": "stream",
          "name": "stdout",
          "text": [
            "Filtered DataFrame (Marks > 70):\n",
            "      Name  Marks\n",
            "0    nandu     85\n",
            "2    ankur     78\n",
            "3  rhenuma     90\n"
          ]
        }
      ]
    },
    {
      "cell_type": "markdown",
      "source": [
        "#Q10Create a histogram using Seaborn to visualize a distribution.\n"
      ],
      "metadata": {
        "id": "3TwNN5fmTIFz"
      }
    },
    {
      "cell_type": "code",
      "source": [
        "import seaborn as sns\n",
        "import matplotlib.pyplot as plt\n",
        "import pandas as pd\n",
        "\n",
        "# Sample data\n",
        "data = {\n",
        "    'Scores': [45, 56, 67, 68, 70, 72, 75, 78, 80, 85, 88, 90, 92, 95, 98]\n",
        "}\n",
        "df = pd.DataFrame(data)\n",
        "\n",
        "# Create a histogram using Seaborn\n",
        "sns.histplot(df['Scores'], bins=10, kde=True, color='skyblue')\n",
        "\n",
        "# Add labels and title\n",
        "plt.xlabel('Scores')\n",
        "plt.ylabel('Frequency')\n",
        "plt.title('Distribution of Scores')\n",
        "\n",
        "# Show the plot\n",
        "plt.show()\n"
      ],
      "metadata": {
        "colab": {
          "base_uri": "https://localhost:8080/",
          "height": 472
        },
        "id": "jW8GGw3mTWmE",
        "outputId": "6dc46e9d-f6ae-417a-c099-6878c0c28cb4"
      },
      "execution_count": null,
      "outputs": [
        {
          "output_type": "display_data",
          "data": {
            "text/plain": [
              "<Figure size 640x480 with 1 Axes>"
            ],
            "image/png": "[encoded data removed]"
          },
          "metadata": {}
        }
      ]
    },
    {
      "cell_type": "markdown",
      "source": [
        "#Q11.Perform matrix multiplication using NumPy.\n"
      ],
      "metadata": {
        "id": "5Bwy3d3JT44g"
      }
    },
    {
      "cell_type": "code",
      "source": [
        "import numpy as np\n",
        "\n",
        "# Define two matrices\n",
        "A = np.array([[1, 2],\n",
        "              [3, 4]])\n",
        "\n",
        "B = np.array([[5, 6],\n",
        "              [7, 8]])\n",
        "\n",
        "# Perform matrix multiplication\n",
        "result = np.dot(A, B)\n",
        "\n",
        "# Display the result\n",
        "print(\"Matrix A:\")\n",
        "print(A)\n",
        "\n",
        "print(\"\\nMatrix B:\")\n",
        "print(B)\n",
        "\n",
        "print(\"\\nMatrix Multiplication (A × B):\")\n",
        "print(result)\n"
      ],
      "metadata": {
        "colab": {
          "base_uri": "https://localhost:8080/"
        },
        "id": "PAcflz7YTeB1",
        "outputId": "1261a8b0-d5b5-471b-bf11-eaa0925d09bd"
      },
      "execution_count": null,
      "outputs": [
        {
          "output_type": "stream",
          "name": "stdout",
          "text": [
            "Matrix A:\n",
            "[[1 2]\n",
            " [3 4]]\n",
            "\n",
            "Matrix B:\n",
            "[[5 6]\n",
            " [7 8]]\n",
            "\n",
            "Matrix Multiplication (A × B):\n",
            "[[19 22]\n",
            " [43 50]]\n"
          ]
        }
      ]
    },
    {
      "cell_type": "markdown",
      "source": [
        "#Q12.Use Pandas to load a CSV file and display its first 5 rows."
      ],
      "metadata": {
        "id": "rn71uOxZUNju"
      }
    },
    {
      "cell_type": "code",
      "source": [
        "import pandas as pd"
      ],
      "metadata": {
        "id": "kLP-UmQAgbjZ"
      },
      "execution_count": 12,
      "outputs": []
    },
    {
      "cell_type": "code",
      "source": [
        "df = pd.read_csv(\"Brothers.csv\")\n"
      ],
      "metadata": {
        "id": "Os5pp82cgjhB"
      },
      "execution_count": 14,
      "outputs": []
    },
    {
      "cell_type": "code",
      "source": [
        "df"
      ],
      "metadata": {
        "colab": {
          "base_uri": "https://localhost:8080/",
          "height": 175
        },
        "id": "PLw-dwB4xqWu",
        "outputId": "233b6238-538a-45be-c29b-0716026cdaa7"
      },
      "execution_count": 15,
      "outputs": [
        {
          "output_type": "execute_result",
          "data": {
            "text/plain": [
              "   Unnamed: 0     Name     Cars         City\n",
              "0           0   Manish     Audi    Ghaziabad\n",
              "1           1   Deepak     Thar        Siwan\n",
              "2           2  Dheeraj  scorpio  Mohan Nagar\n",
              "3           3  Prakash   Xuv700        Patna"
            ],
            "text/html": [
              "\n",
              "  <div id=\"df-939037da-9c91-4ec7-a1ba-8bfe241a0d0e\" class=\"colab-df-container\">\n",
              "    <div>\n",
              "<style scoped>\n",
              "    .dataframe tbody tr th:only-of-type {\n",
              "        vertical-align: middle;\n",
              "    }\n",
              "\n",
              "    .dataframe tbody tr th {\n",
              "        vertical-align: top;\n",
              "    }\n",
              "\n",
              "    .dataframe thead th {\n",
              "        text-align: right;\n",
              "    }\n",
              "</style>\n",
              "<table border=\"1\" class=\"dataframe\">\n",
              "  <thead>\n",
              "    <tr style=\"text-align: right;\">\n",
              "      <th></th>\n",
              "      <th>Unnamed: 0</th>\n",
              "      <th>Name</th>\n",
              "      <th>Cars</th>\n",
              "      <th>City</th>\n",
              "    </tr>\n",
              "  </thead>\n",
              "  <tbody>\n",
              "    <tr>\n",
              "      <th>0</th>\n",
              "      <td>0</td>\n",
              "      <td>Manish</td>\n",
              "      <td>Audi</td>\n",
              "      <td>Ghaziabad</td>\n",
              "    </tr>\n",
              "    <tr>\n",
              "      <th>1</th>\n",
              "      <td>1</td>\n",
              "      <td>Deepak</td>\n",
              "      <td>Thar</td>\n",
              "      <td>Siwan</td>\n",
              "    </tr>\n",
              "    <tr>\n",
              "      <th>2</th>\n",
              "      <td>2</td>\n",
              "      <td>Dheeraj</td>\n",
              "      <td>scorpio</td>\n",
              "      <td>Mohan Nagar</td>\n",
              "    </tr>\n",
              "    <tr>\n",
              "      <th>3</th>\n",
              "      <td>3</td>\n",
              "      <td>Prakash</td>\n",
              "      <td>Xuv700</td>\n",
              "      <td>Patna</td>\n",
              "    </tr>\n",
              "  </tbody>\n",
              "</table>\n",
              "</div>\n",
              "    <div class=\"colab-df-buttons\">\n",
              "\n",
              "  <div class=\"colab-df-container\">\n",
              "    <button class=\"colab-df-convert\" onclick=\"convertToInteractive('df-939037da-9c91-4ec7-a1ba-8bfe241a0d0e')\"\n",
              "            title=\"Convert this dataframe to an interactive table.\"\n",
              "            style=\"display:none;\">\n",
              "\n",
              "  <svg xmlns=\"http://www.w3.org/2000/svg\" height=\"24px\" viewBox=\"0 -960 960 960\">\n",
              "    <path d=\"M120-120v-720h720v720H120Zm60-500h600v-160H180v160Zm220 220h160v-160H400v160Zm0 220h160v-160H400v160ZM180-400h160v-160H180v160Zm440 0h160v-160H620v160ZM180-180h160v-160H180v160Zm440 0h160v-160H620v160Z\"/>\n",
              "  </svg>\n",
              "    </button>\n",
              "\n",
              "  <style>\n",
              "    .colab-df-container {\n",
              "      display:flex;\n",
              "      gap: 12px;\n",
              "    }\n",
              "\n",
              "    .colab-df-convert {\n",
              "      background-color: #E8F0FE;\n",
              "      border: none;\n",
              "      border-radius: 50%;\n",
              "      cursor: pointer;\n",
              "      display: none;\n",
              "      fill: #1967D2;\n",
              "      height: 32px;\n",
              "      padding: 0 0 0 0;\n",
              "      width: 32px;\n",
              "    }\n",
              "\n",
              "    .colab-df-convert:hover {\n",
              "      background-color: #E2EBFA;\n",
              "      box-shadow: 0px 1px 2px rgba(60, 64, 67, 0.3), 0px 1px 3px 1px rgba(60, 64, 67, 0.15);\n",
              "      fill: #174EA6;\n",
              "    }\n",
              "\n",
              "    .colab-df-buttons div {\n",
              "      margin-bottom: 4px;\n",
              "    }\n",
              "\n",
              "    [theme=dark] .colab-df-convert {\n",
              "      background-color: #3B4455;\n",
              "      fill: #D2E3FC;\n",
              "    }\n",
              "\n",
              "    [theme=dark] .colab-df-convert:hover {\n",
              "      background-color: #434B5C;\n",
              "      box-shadow: 0px 1px 3px 1px rgba(0, 0, 0, 0.15);\n",
              "      filter: drop-shadow(0px 1px 2px rgba(0, 0, 0, 0.3));\n",
              "      fill: #FFFFFF;\n",
              "    }\n",
              "  </style>\n",
              "\n",
              "    <script>\n",
              "      const buttonEl =\n",
              "        document.querySelector('#df-939037da-9c91-4ec7-a1ba-8bfe241a0d0e button.colab-df-convert');\n",
              "      buttonEl.style.display =\n",
              "        google.colab.kernel.accessAllowed ? 'block' : 'none';\n",
              "\n",
              "      async function convertToInteractive(key) {\n",
              "        const element = document.querySelector('#df-939037da-9c91-4ec7-a1ba-8bfe241a0d0e');\n",
              "        const dataTable =\n",
              "          await google.colab.kernel.invokeFunction('convertToInteractive',\n",
              "                                                    [key], {});\n",
              "        if (!dataTable) return;\n",
              "\n",
              "        const docLinkHtml = 'Like what you see? Visit the ' +\n",
              "          '<a target=\"_blank\" href=https://colab.research.google.com/notebooks/data_table.ipynb>data table notebook</a>'\n",
              "          + ' to learn more about interactive tables.';\n",
              "        element.innerHTML = '';\n",
              "        dataTable['output_type'] = 'display_data';\n",
              "        await google.colab.output.renderOutput(dataTable, element);\n",
              "        const docLink = document.createElement('div');\n",
              "        docLink.innerHTML = docLinkHtml;\n",
              "        element.appendChild(docLink);\n",
              "      }\n",
              "    </script>\n",
              "  </div>\n",
              "\n",
              "\n",
              "    <div id=\"df-d48dd808-d7a0-4335-b7e8-42344dddd202\">\n",
              "      <button class=\"colab-df-quickchart\" onclick=\"quickchart('df-d48dd808-d7a0-4335-b7e8-42344dddd202')\"\n",
              "                title=\"Suggest charts\"\n",
              "                style=\"display:none;\">\n",
              "\n",
              "<svg xmlns=\"http://www.w3.org/2000/svg\" height=\"24px\"viewBox=\"0 0 24 24\"\n",
              "     width=\"24px\">\n",
              "    <g>\n",
              "        <path d=\"M19 3H5c-1.1 0-2 .9-2 2v14c0 1.1.9 2 2 2h14c1.1 0 2-.9 2-2V5c0-1.1-.9-2-2-2zM9 17H7v-7h2v7zm4 0h-2V7h2v10zm4 0h-2v-4h2v4z\"/>\n",
              "    </g>\n",
              "</svg>\n",
              "      </button>\n",
              "\n",
              "<style>\n",
              "  .colab-df-quickchart {\n",
              "      --bg-color: #E8F0FE;\n",
              "      --fill-color: #1967D2;\n",
              "      --hover-bg-color: #E2EBFA;\n",
              "      --hover-fill-color: #174EA6;\n",
              "      --disabled-fill-color: #AAA;\n",
              "      --disabled-bg-color: #DDD;\n",
              "  }\n",
              "\n",
              "  [theme=dark] .colab-df-quickchart {\n",
              "      --bg-color: #3B4455;\n",
              "      --fill-color: #D2E3FC;\n",
              "      --hover-bg-color: #434B5C;\n",
              "      --hover-fill-color: #FFFFFF;\n",
              "      --disabled-bg-color: #3B4455;\n",
              "      --disabled-fill-color: #666;\n",
              "  }\n",
              "\n",
              "  .colab-df-quickchart {\n",
              "    background-color: var(--bg-color);\n",
              "    border: none;\n",
              "    border-radius: 50%;\n",
              "    cursor: pointer;\n",
              "    display: none;\n",
              "    fill: var(--fill-color);\n",
              "    height: 32px;\n",
              "    padding: 0;\n",
              "    width: 32px;\n",
              "  }\n",
              "\n",
              "  .colab-df-quickchart:hover {\n",
              "    background-color: var(--hover-bg-color);\n",
              "    box-shadow: 0 1px 2px rgba(60, 64, 67, 0.3), 0 1px 3px 1px rgba(60, 64, 67, 0.15);\n",
              "    fill: var(--button-hover-fill-color);\n",
              "  }\n",
              "\n",
              "  .colab-df-quickchart-complete:disabled,\n",
              "  .colab-df-quickchart-complete:disabled:hover {\n",
              "    background-color: var(--disabled-bg-color);\n",
              "    fill: var(--disabled-fill-color);\n",
              "    box-shadow: none;\n",
              "  }\n",
              "\n",
              "  .colab-df-spinner {\n",
              "    border: 2px solid var(--fill-color);\n",
              "    border-color: transparent;\n",
              "    border-bottom-color: var(--fill-color);\n",
              "    animation:\n",
              "      spin 1s steps(1) infinite;\n",
              "  }\n",
              "\n",
              "  @keyframes spin {\n",
              "    0% {\n",
              "      border-color: transparent;\n",
              "      border-bottom-color: var(--fill-color);\n",
              "      border-left-color: var(--fill-color);\n",
              "    }\n",
              "    20% {\n",
              "      border-color: transparent;\n",
              "      border-left-color: var(--fill-color);\n",
              "      border-top-color: var(--fill-color);\n",
              "    }\n",
              "    30% {\n",
              "      border-color: transparent;\n",
              "      border-left-color: var(--fill-color);\n",
              "      border-top-color: var(--fill-color);\n",
              "      border-right-color: var(--fill-color);\n",
              "    }\n",
              "    40% {\n",
              "      border-color: transparent;\n",
              "      border-right-color: var(--fill-color);\n",
              "      border-top-color: var(--fill-color);\n",
              "    }\n",
              "    60% {\n",
              "      border-color: transparent;\n",
              "      border-right-color: var(--fill-color);\n",
              "    }\n",
              "    80% {\n",
              "      border-color: transparent;\n",
              "      border-right-color: var(--fill-color);\n",
              "      border-bottom-color: var(--fill-color);\n",
              "    }\n",
              "    90% {\n",
              "      border-color: transparent;\n",
              "      border-bottom-color: var(--fill-color);\n",
              "    }\n",
              "  }\n",
              "</style>\n",
              "\n",
              "      <script>\n",
              "        async function quickchart(key) {\n",
              "          const quickchartButtonEl =\n",
              "            document.querySelector('#' + key + ' button');\n",
              "          quickchartButtonEl.disabled = true;  // To prevent multiple clicks.\n",
              "          quickchartButtonEl.classList.add('colab-df-spinner');\n",
              "          try {\n",
              "            const charts = await google.colab.kernel.invokeFunction(\n",
              "                'suggestCharts', [key], {});\n",
              "          } catch (error) {\n",
              "            console.error('Error during call to suggestCharts:', error);\n",
              "          }\n",
              "          quickchartButtonEl.classList.remove('colab-df-spinner');\n",
              "          quickchartButtonEl.classList.add('colab-df-quickchart-complete');\n",
              "        }\n",
              "        (() => {\n",
              "          let quickchartButtonEl =\n",
              "            document.querySelector('#df-d48dd808-d7a0-4335-b7e8-42344dddd202 button');\n",
              "          quickchartButtonEl.style.display =\n",
              "            google.colab.kernel.accessAllowed ? 'block' : 'none';\n",
              "        })();\n",
              "      </script>\n",
              "    </div>\n",
              "\n",
              "  <div id=\"id_7a9e0f5e-6b54-4dfb-b758-464fa5b2e0d6\">\n",
              "    <style>\n",
              "      .colab-df-generate {\n",
              "        background-color: #E8F0FE;\n",
              "        border: none;\n",
              "        border-radius: 50%;\n",
              "        cursor: pointer;\n",
              "        display: none;\n",
              "        fill: #1967D2;\n",
              "        height: 32px;\n",
              "        padding: 0 0 0 0;\n",
              "        width: 32px;\n",
              "      }\n",
              "\n",
              "      .colab-df-generate:hover {\n",
              "        background-color: #E2EBFA;\n",
              "        box-shadow: 0px 1px 2px rgba(60, 64, 67, 0.3), 0px 1px 3px 1px rgba(60, 64, 67, 0.15);\n",
              "        fill: #174EA6;\n",
              "      }\n",
              "\n",
              "      [theme=dark] .colab-df-generate {\n",
              "        background-color: #3B4455;\n",
              "        fill: #D2E3FC;\n",
              "      }\n",
              "\n",
              "      [theme=dark] .colab-df-generate:hover {\n",
              "        background-color: #434B5C;\n",
              "        box-shadow: 0px 1px 3px 1px rgba(0, 0, 0, 0.15);\n",
              "        filter: drop-shadow(0px 1px 2px rgba(0, 0, 0, 0.3));\n",
              "        fill: #FFFFFF;\n",
              "      }\n",
              "    </style>\n",
              "    <button class=\"colab-df-generate\" onclick=\"generateWithVariable('df')\"\n",
              "            title=\"Generate code using this dataframe.\"\n",
              "            style=\"display:none;\">\n",
              "\n",
              "  <svg xmlns=\"http://www.w3.org/2000/svg\" height=\"24px\"viewBox=\"0 0 24 24\"\n",
              "       width=\"24px\">\n",
              "    <path d=\"M7,19H8.4L18.45,9,17,7.55,7,17.6ZM5,21V16.75L18.45,3.32a2,2,0,0,1,2.83,0l1.4,1.43a1.91,1.91,0,0,1,.58,1.4,1.91,1.91,0,0,1-.58,1.4L9.25,21ZM18.45,9,17,7.55Zm-12,3A5.31,5.31,0,0,0,4.9,8.1,5.31,5.31,0,0,0,1,6.5,5.31,5.31,0,0,0,4.9,4.9,5.31,5.31,0,0,0,6.5,1,5.31,5.31,0,0,0,8.1,4.9,5.31,5.31,0,0,0,12,6.5,5.46,5.46,0,0,0,6.5,12Z\"/>\n",
              "  </svg>\n",
              "    </button>\n",
              "    <script>\n",
              "      (() => {\n",
              "      const buttonEl =\n",
              "        document.querySelector('#id_7a9e0f5e-6b54-4dfb-b758-464fa5b2e0d6 button.colab-df-generate');\n",
              "      buttonEl.style.display =\n",
              "        google.colab.kernel.accessAllowed ? 'block' : 'none';\n",
              "\n",
              "      buttonEl.onclick = () => {\n",
              "        google.colab.notebook.generateWithVariable('df');\n",
              "      }\n",
              "      })();\n",
              "    </script>\n",
              "  </div>\n",
              "\n",
              "    </div>\n",
              "  </div>\n"
            ],
            "application/vnd.google.colaboratory.intrinsic+json": {
              "type": "dataframe",
              "variable_name": "df",
              "summary": "{\n  \"name\": \"df\",\n  \"rows\": 4,\n  \"fields\": [\n    {\n      \"column\": \"Unnamed: 0\",\n      \"properties\": {\n        \"dtype\": \"number\",\n        \"std\": 1,\n        \"min\": 0,\n        \"max\": 3,\n        \"num_unique_values\": 4,\n        \"samples\": [\n          1,\n          3,\n          0\n        ],\n        \"semantic_type\": \"\",\n        \"description\": \"\"\n      }\n    },\n    {\n      \"column\": \"Name\",\n      \"properties\": {\n        \"dtype\": \"string\",\n        \"num_unique_values\": 4,\n        \"samples\": [\n          \"Deepak\",\n          \"Prakash\",\n          \"Manish\"\n        ],\n        \"semantic_type\": \"\",\n        \"description\": \"\"\n      }\n    },\n    {\n      \"column\": \"Cars\",\n      \"properties\": {\n        \"dtype\": \"string\",\n        \"num_unique_values\": 4,\n        \"samples\": [\n          \"Thar\",\n          \"Xuv700\",\n          \"Audi\"\n        ],\n        \"semantic_type\": \"\",\n        \"description\": \"\"\n      }\n    },\n    {\n      \"column\": \"City\",\n      \"properties\": {\n        \"dtype\": \"string\",\n        \"num_unique_values\": 4,\n        \"samples\": [\n          \"Siwan\",\n          \"Patna\",\n          \"Ghaziabad\"\n        ],\n        \"semantic_type\": \"\",\n        \"description\": \"\"\n      }\n    }\n  ]\n}"
            }
          },
          "metadata": {},
          "execution_count": 15
        }
      ]
    },
    {
      "cell_type": "markdown",
      "source": [
        "#Q13.Create a 3D scatter plot using Plotly."
      ],
      "metadata": {
        "id": "wE27UEzTfA6g"
      }
    },
    {
      "cell_type": "code",
      "source": [
        "pip install plotly\n"
      ],
      "metadata": {
        "colab": {
          "base_uri": "https://localhost:8080/"
        },
        "id": "AtXHvSoNex61",
        "outputId": "57f7dad2-ed5f-4e2d-f478-391e9d282326"
      },
      "execution_count": null,
      "outputs": [
        {
          "output_type": "stream",
          "name": "stdout",
          "text": [
            "Requirement already satisfied: plotly in /usr/local/lib/python3.11/dist-packages (5.24.1)\n",
            "Requirement already satisfied: tenacity>=6.2.0 in /usr/local/lib/python3.11/dist-packages (from plotly) (9.1.2)\n",
            "Requirement already satisfied: packaging in /usr/local/lib/python3.11/dist-packages (from plotly) (24.2)\n"
          ]
        }
      ]
    },
    {
      "cell_type": "code",
      "source": [
        "import plotly.express as px\n",
        "import pandas as pd\n",
        "\n",
        "# Sample data\n",
        "data = {\n",
        "    'x': [1, 2, 3, 4, 5],\n",
        "    'y': [10, 11, 12, 13, 14],\n",
        "    'z': [5, 4, 3, 2, 1],\n",
        "    'label': ['A', 'B', 'C', 'D', 'E']\n",
        "}\n",
        "\n",
        "# Create DataFrame\n",
        "df = pd.DataFrame(data)\n",
        "\n",
        "# Create 3D scatter plot\n",
        "fig = px.scatter_3d(df, x='x', y='y', z='z', color='label', size_max=10)\n",
        "\n",
        "# Show the plot\n",
        "fig.show()\n"
      ],
      "metadata": {
        "colab": {
          "base_uri": "https://localhost:8080/",
          "height": 542
        },
        "id": "42KmCEG0fiU6",
        "outputId": "b78e298d-ae1f-43fc-acf5-1532c1c9713c"
      },
      "execution_count": null,
      "outputs": [
        {
          "output_type": "display_data",
          "data": {
            "text/html": [
              "<html>\n",
              "<head><meta charset=\"utf-8\" /></head>\n",
              "<body>\n",
              "    <div>            <script src=\"https://cdnjs.cloudflare.com/ajax/libs/mathjax/2.7.5/MathJax.js?config=TeX-AMS-MML_SVG\"></script><script type=\"text/javascript\">if (window.MathJax && window.MathJax.Hub && window.MathJax.Hub.Config) {window.MathJax.Hub.Config({SVG: {font: \"STIX-Web\"}});}</script>                <script type=\"text/javascript\">window.PlotlyConfig = {MathJaxConfig: 'local'};</script>\n",
              "        <script charset=\"utf-8\" src=\"https://cdn.plot.ly/plotly-2.35.2.min.js\"></script>                <div id=\"e0b65c59-171a-4ff2-b63d-7d782d4cffa3\" class=\"plotly-graph-div\" style=\"height:525px; width:100%;\"></div>            <script type=\"text/javascript\">                                    window.PLOTLYENV=window.PLOTLYENV || {};                                    if (document.getElementById(\"e0b65c59-171a-4ff2-b63d-7d782d4cffa3\")) {                    Plotly.newPlot(                        \"e0b65c59-171a-4ff2-b63d-7d782d4cffa3\",                        [{\"hovertemplate\":\"label=A\\u003cbr\\u003ex=%{x}\\u003cbr\\u003ey=%{y}\\u003cbr\\u003ez=%{z}\\u003cextra\\u003e\\u003c\\u002fextra\\u003e\",\"legendgroup\":\"A\",\"marker\":{\"color\":\"#636efa\",\"symbol\":\"circle\"},\"mode\":\"markers\",\"name\":\"A\",\"scene\":\"scene\",\"showlegend\":true,\"x\":[1],\"y\":[10],\"z\":[5],\"type\":\"scatter3d\"},{\"hovertemplate\":\"label=B\\u003cbr\\u003ex=%{x}\\u003cbr\\u003ey=%{y}\\u003cbr\\u003ez=%{z}\\u003cextra\\u003e\\u003c\\u002fextra\\u003e\",\"legendgroup\":\"B\",\"marker\":{\"color\":\"#EF553B\",\"symbol\":\"circle\"},\"mode\":\"markers\",\"name\":\"B\",\"scene\":\"scene\",\"showlegend\":true,\"x\":[2],\"y\":[11],\"z\":[4],\"type\":\"scatter3d\"},{\"hovertemplate\":\"label=C\\u003cbr\\u003ex=%{x}\\u003cbr\\u003ey=%{y}\\u003cbr\\u003ez=%{z}\\u003cextra\\u003e\\u003c\\u002fextra\\u003e\",\"legendgroup\":\"C\",\"marker\":{\"color\":\"#00cc96\",\"symbol\":\"circle\"},\"mode\":\"markers\",\"name\":\"C\",\"scene\":\"scene\",\"showlegend\":true,\"x\":[3],\"y\":[12],\"z\":[3],\"type\":\"scatter3d\"},{\"hovertemplate\":\"label=D\\u003cbr\\u003ex=%{x}\\u003cbr\\u003ey=%{y}\\u003cbr\\u003ez=%{z}\\u003cextra\\u003e\\u003c\\u002fextra\\u003e\",\"legendgroup\":\"D\",\"marker\":{\"color\":\"#ab63fa\",\"symbol\":\"circle\"},\"mode\":\"markers\",\"name\":\"D\",\"scene\":\"scene\",\"showlegend\":true,\"x\":[4],\"y\":[13],\"z\":[2],\"type\":\"scatter3d\"},{\"hovertemplate\":\"label=E\\u003cbr\\u003ex=%{x}\\u003cbr\\u003ey=%{y}\\u003cbr\\u003ez=%{z}\\u003cextra\\u003e\\u003c\\u002fextra\\u003e\",\"legendgroup\":\"E\",\"marker\":{\"color\":\"#FFA15A\",\"symbol\":\"circle\"},\"mode\":\"markers\",\"name\":\"E\",\"scene\":\"scene\",\"showlegend\":true,\"x\":[5],\"y\":[14],\"z\":[1],\"type\":\"scatter3d\"}],                        {\"template\":{\"data\":{\"histogram2dcontour\":[{\"type\":\"histogram2dcontour\",\"colorbar\":{\"outlinewidth\":0,\"ticks\":\"\"},\"colorscale\":[[0.0,\"#0d0887\"],[0.1111111111111111,\"#46039f\"],[0.2222222222222222,\"#7201a8\"],[0.3333333333333333,\"#9c179e\"],[0.4444444444444444,\"#bd3786\"],[0.5555555555555556,\"#d8576b\"],[0.6666666666666666,\"#ed7953\"],[0.7777777777777778,\"#fb9f3a\"],[0.8888888888888888,\"#fdca26\"],[1.0,\"#f0f921\"]]}],\"choropleth\":[{\"type\":\"choropleth\",\"colorbar\":{\"outlinewidth\":0,\"ticks\":\"\"}}],\"histogram2d\":[{\"type\":\"histogram2d\",\"colorbar\":{\"outlinewidth\":0,\"ticks\":\"\"},\"colorscale\":[[0.0,\"#0d0887\"],[0.1111111111111111,\"#46039f\"],[0.2222222222222222,\"#7201a8\"],[0.3333333333333333,\"#9c179e\"],[0.4444444444444444,\"#bd3786\"],[0.5555555555555556,\"#d8576b\"],[0.6666666666666666,\"#ed7953\"],[0.7777777777777778,\"#fb9f3a\"],[0.8888888888888888,\"#fdca26\"],[1.0,\"#f0f921\"]]}],\"heatmap\":[{\"type\":\"heatmap\",\"colorbar\":{\"outlinewidth\":0,\"ticks\":\"\"},\"colorscale\":[[0.0,\"#0d0887\"],[0.1111111111111111,\"#46039f\"],[0.2222222222222222,\"#7201a8\"],[0.3333333333333333,\"#9c179e\"],[0.4444444444444444,\"#bd3786\"],[0.5555555555555556,\"#d8576b\"],[0.6666666666666666,\"#ed7953\"],[0.7777777777777778,\"#fb9f3a\"],[0.8888888888888888,\"#fdca26\"],[1.0,\"#f0f921\"]]}],\"heatmapgl\":[{\"type\":\"heatmapgl\",\"colorbar\":{\"outlinewidth\":0,\"ticks\":\"\"},\"colorscale\":[[0.0,\"#0d0887\"],[0.1111111111111111,\"#46039f\"],[0.2222222222222222,\"#7201a8\"],[0.3333333333333333,\"#9c179e\"],[0.4444444444444444,\"#bd3786\"],[0.5555555555555556,\"#d8576b\"],[0.6666666666666666,\"#ed7953\"],[0.7777777777777778,\"#fb9f3a\"],[0.8888888888888888,\"#fdca26\"],[1.0,\"#f0f921\"]]}],\"contourcarpet\":[{\"type\":\"contourcarpet\",\"colorbar\":{\"outlinewidth\":0,\"ticks\":\"\"}}],\"contour\":[{\"type\":\"contour\",\"colorbar\":{\"outlinewidth\":0,\"ticks\":\"\"},\"colorscale\":[[0.0,\"#0d0887\"],[0.1111111111111111,\"#46039f\"],[0.2222222222222222,\"#7201a8\"],[0.3333333333333333,\"#9c179e\"],[0.4444444444444444,\"#bd3786\"],[0.5555555555555556,\"#d8576b\"],[0.6666666666666666,\"#ed7953\"],[0.7777777777777778,\"#fb9f3a\"],[0.8888888888888888,\"#fdca26\"],[1.0,\"#f0f921\"]]}],\"surface\":[{\"type\":\"surface\",\"colorbar\":{\"outlinewidth\":0,\"ticks\":\"\"},\"colorscale\":[[0.0,\"#0d0887\"],[0.1111111111111111,\"#46039f\"],[0.2222222222222222,\"#7201a8\"],[0.3333333333333333,\"#9c179e\"],[0.4444444444444444,\"#bd3786\"],[0.5555555555555556,\"#d8576b\"],[0.6666666666666666,\"#ed7953\"],[0.7777777777777778,\"#fb9f3a\"],[0.8888888888888888,\"#fdca26\"],[1.0,\"#f0f921\"]]}],\"mesh3d\":[{\"type\":\"mesh3d\",\"colorbar\":{\"outlinewidth\":0,\"ticks\":\"\"}}],\"scatter\":[{\"fillpattern\":{\"fillmode\":\"overlay\",\"size\":10,\"solidity\":0.2},\"type\":\"scatter\"}],\"parcoords\":[{\"type\":\"parcoords\",\"line\":{\"colorbar\":{\"outlinewidth\":0,\"ticks\":\"\"}}}],\"scatterpolargl\":[{\"type\":\"scatterpolargl\",\"marker\":{\"colorbar\":{\"outlinewidth\":0,\"ticks\":\"\"}}}],\"bar\":[{\"error_x\":{\"color\":\"#2a3f5f\"},\"error_y\":{\"color\":\"#2a3f5f\"},\"marker\":{\"line\":{\"color\":\"#E5ECF6\",\"width\":0.5},\"pattern\":{\"fillmode\":\"overlay\",\"size\":10,\"solidity\":0.2}},\"type\":\"bar\"}],\"scattergeo\":[{\"type\":\"scattergeo\",\"marker\":{\"colorbar\":{\"outlinewidth\":0,\"ticks\":\"\"}}}],\"scatterpolar\":[{\"type\":\"scatterpolar\",\"marker\":{\"colorbar\":{\"outlinewidth\":0,\"ticks\":\"\"}}}],\"histogram\":[{\"marker\":{\"pattern\":{\"fillmode\":\"overlay\",\"size\":10,\"solidity\":0.2}},\"type\":\"histogram\"}],\"scattergl\":[{\"type\":\"scattergl\",\"marker\":{\"colorbar\":{\"outlinewidth\":0,\"ticks\":\"\"}}}],\"scatter3d\":[{\"type\":\"scatter3d\",\"line\":{\"colorbar\":{\"outlinewidth\":0,\"ticks\":\"\"}},\"marker\":{\"colorbar\":{\"outlinewidth\":0,\"ticks\":\"\"}}}],\"scattermapbox\":[{\"type\":\"scattermapbox\",\"marker\":{\"colorbar\":{\"outlinewidth\":0,\"ticks\":\"\"}}}],\"scatterternary\":[{\"type\":\"scatterternary\",\"marker\":{\"colorbar\":{\"outlinewidth\":0,\"ticks\":\"\"}}}],\"scattercarpet\":[{\"type\":\"scattercarpet\",\"marker\":{\"colorbar\":{\"outlinewidth\":0,\"ticks\":\"\"}}}],\"carpet\":[{\"aaxis\":{\"endlinecolor\":\"#2a3f5f\",\"gridcolor\":\"white\",\"linecolor\":\"white\",\"minorgridcolor\":\"white\",\"startlinecolor\":\"#2a3f5f\"},\"baxis\":{\"endlinecolor\":\"#2a3f5f\",\"gridcolor\":\"white\",\"linecolor\":\"white\",\"minorgridcolor\":\"white\",\"startlinecolor\":\"#2a3f5f\"},\"type\":\"carpet\"}],\"table\":[{\"cells\":{\"fill\":{\"color\":\"#EBF0F8\"},\"line\":{\"color\":\"white\"}},\"header\":{\"fill\":{\"color\":\"#C8D4E3\"},\"line\":{\"color\":\"white\"}},\"type\":\"table\"}],\"barpolar\":[{\"marker\":{\"line\":{\"color\":\"#E5ECF6\",\"width\":0.5},\"pattern\":{\"fillmode\":\"overlay\",\"size\":10,\"solidity\":0.2}},\"type\":\"barpolar\"}],\"pie\":[{\"automargin\":true,\"type\":\"pie\"}]},\"layout\":{\"autotypenumbers\":\"strict\",\"colorway\":[\"#636efa\",\"#EF553B\",\"#00cc96\",\"#ab63fa\",\"#FFA15A\",\"#19d3f3\",\"#FF6692\",\"#B6E880\",\"#FF97FF\",\"#FECB52\"],\"font\":{\"color\":\"#2a3f5f\"},\"hovermode\":\"closest\",\"hoverlabel\":{\"align\":\"left\"},\"paper_bgcolor\":\"white\",\"plot_bgcolor\":\"#E5ECF6\",\"polar\":{\"bgcolor\":\"#E5ECF6\",\"angularaxis\":{\"gridcolor\":\"white\",\"linecolor\":\"white\",\"ticks\":\"\"},\"radialaxis\":{\"gridcolor\":\"white\",\"linecolor\":\"white\",\"ticks\":\"\"}},\"ternary\":{\"bgcolor\":\"#E5ECF6\",\"aaxis\":{\"gridcolor\":\"white\",\"linecolor\":\"white\",\"ticks\":\"\"},\"baxis\":{\"gridcolor\":\"white\",\"linecolor\":\"white\",\"ticks\":\"\"},\"caxis\":{\"gridcolor\":\"white\",\"linecolor\":\"white\",\"ticks\":\"\"}},\"coloraxis\":{\"colorbar\":{\"outlinewidth\":0,\"ticks\":\"\"}},\"colorscale\":{\"sequential\":[[0.0,\"#0d0887\"],[0.1111111111111111,\"#46039f\"],[0.2222222222222222,\"#7201a8\"],[0.3333333333333333,\"#9c179e\"],[0.4444444444444444,\"#bd3786\"],[0.5555555555555556,\"#d8576b\"],[0.6666666666666666,\"#ed7953\"],[0.7777777777777778,\"#fb9f3a\"],[0.8888888888888888,\"#fdca26\"],[1.0,\"#f0f921\"]],\"sequentialminus\":[[0.0,\"#0d0887\"],[0.1111111111111111,\"#46039f\"],[0.2222222222222222,\"#7201a8\"],[0.3333333333333333,\"#9c179e\"],[0.4444444444444444,\"#bd3786\"],[0.5555555555555556,\"#d8576b\"],[0.6666666666666666,\"#ed7953\"],[0.7777777777777778,\"#fb9f3a\"],[0.8888888888888888,\"#fdca26\"],[1.0,\"#f0f921\"]],\"diverging\":[[0,\"#8e0152\"],[0.1,\"#c51b7d\"],[0.2,\"#de77ae\"],[0.3,\"#f1b6da\"],[0.4,\"#fde0ef\"],[0.5,\"#f7f7f7\"],[0.6,\"#e6f5d0\"],[0.7,\"#b8e186\"],[0.8,\"#7fbc41\"],[0.9,\"#4d9221\"],[1,\"#276419\"]]},\"xaxis\":{\"gridcolor\":\"white\",\"linecolor\":\"white\",\"ticks\":\"\",\"title\":{\"standoff\":15},\"zerolinecolor\":\"white\",\"automargin\":true,\"zerolinewidth\":2},\"yaxis\":{\"gridcolor\":\"white\",\"linecolor\":\"white\",\"ticks\":\"\",\"title\":{\"standoff\":15},\"zerolinecolor\":\"white\",\"automargin\":true,\"zerolinewidth\":2},\"scene\":{\"xaxis\":{\"backgroundcolor\":\"#E5ECF6\",\"gridcolor\":\"white\",\"linecolor\":\"white\",\"showbackground\":true,\"ticks\":\"\",\"zerolinecolor\":\"white\",\"gridwidth\":2},\"yaxis\":{\"backgroundcolor\":\"#E5ECF6\",\"gridcolor\":\"white\",\"linecolor\":\"white\",\"showbackground\":true,\"ticks\":\"\",\"zerolinecolor\":\"white\",\"gridwidth\":2},\"zaxis\":{\"backgroundcolor\":\"#E5ECF6\",\"gridcolor\":\"white\",\"linecolor\":\"white\",\"showbackground\":true,\"ticks\":\"\",\"zerolinecolor\":\"white\",\"gridwidth\":2}},\"shapedefaults\":{\"line\":{\"color\":\"#2a3f5f\"}},\"annotationdefaults\":{\"arrowcolor\":\"#2a3f5f\",\"arrowhead\":0,\"arrowwidth\":1},\"geo\":{\"bgcolor\":\"white\",\"landcolor\":\"#E5ECF6\",\"subunitcolor\":\"white\",\"showland\":true,\"showlakes\":true,\"lakecolor\":\"white\"},\"title\":{\"x\":0.05},\"mapbox\":{\"style\":\"light\"}}},\"scene\":{\"domain\":{\"x\":[0.0,1.0],\"y\":[0.0,1.0]},\"xaxis\":{\"title\":{\"text\":\"x\"}},\"yaxis\":{\"title\":{\"text\":\"y\"}},\"zaxis\":{\"title\":{\"text\":\"z\"}}},\"legend\":{\"title\":{\"text\":\"label\"},\"tracegroupgap\":0},\"margin\":{\"t\":60}},                        {\"responsive\": true}                    ).then(function(){\n",
              "                            \n",
              "var gd = document.getElementById('e0b65c59-171a-4ff2-b63d-7d782d4cffa3');\n",
              "var x = new MutationObserver(function (mutations, observer) {{\n",
              "        var display = window.getComputedStyle(gd).display;\n",
              "        if (!display || display === 'none') {{\n",
              "            console.log([gd, 'removed!']);\n",
              "            Plotly.purge(gd);\n",
              "            observer.disconnect();\n",
              "        }}\n",
              "}});\n",
              "\n",
              "// Listen for the removal of the full notebook cells\n",
              "var notebookContainer = gd.closest('#notebook-container');\n",
              "if (notebookContainer) {{\n",
              "    x.observe(notebookContainer, {childList: true});\n",
              "}}\n",
              "\n",
              "// Listen for the clearing of the current output cell\n",
              "var outputEl = gd.closest('.output');\n",
              "if (outputEl) {{\n",
              "    x.observe(outputEl, {childList: true});\n",
              "}}\n",
              "\n",
              "                        })                };                            </script>        </div>\n",
              "</body>\n",
              "</html>"
            ]
          },
          "metadata": {}
        }
      ]
    },
    {
      "cell_type": "code",
      "source": [],
      "metadata": {
        "id": "Fq98aavKftsj"
      },
      "execution_count": null,
      "outputs": []
    }
  ],
  "metadata": {
    "colab": {
      "provenance": []
    },
    "kernelspec": {
      "display_name": "Python 3",
      "name": "python3"
    },
    "language_info": {
      "name": "python"
    }
  },
  "nbformat": 4,
  "nbformat_minor": 0
}